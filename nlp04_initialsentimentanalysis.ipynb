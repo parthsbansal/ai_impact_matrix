{
 "cells": [
  {
   "cell_type": "code",
   "execution_count": 1,
   "id": "384de34e-9c2b-408f-bbe0-ad13a0ad4e24",
   "metadata": {},
   "outputs": [],
   "source": [
    "import pandas as pd\n",
    "import re \n",
    "import nltk as nltk\n",
    "import numpy as np\n",
    "import matplotlib.pyplot as plt\n",
    "import seaborn as sns\n",
    "import spacy\n",
    "import time\n",
    "import math\n",
    "import string\n",
    "import gensim\n",
    "import pyLDAvis\n",
    "import os\n",
    "import requests\n",
    "import pprint\n",
    "import seaborn as sns \n",
    "import matplotlib.pyplot as plt\n",
    "#import pyLDAvis.gensim\n",
    "#import pyLDAvis.gensim_models as gensimvis\n",
    "import warnings\n",
    "warnings.simplefilter('ignore')\n",
    "\n",
    "\n",
    "from IPython.display import clear_output\n",
    "from joblib import dump, load\n",
    "from textblob import TextBlob\n",
    "from nltk.corpus import stopwords\n",
    "from nltk.stem.wordnet import WordNetLemmatizer\n",
    "from gensim import corpora, models\n",
    "from gensim.models.ldamulticore import LdaMulticore\n",
    "\n",
    "pyLDAvis.enable_notebook()\n",
    "#nlp = spacy.load(\"en_core_web_sm\")"
   ]
  },
  {
   "cell_type": "code",
   "execution_count": 2,
   "id": "f62532eb-6c89-458e-ba9b-9b27ee176ec5",
   "metadata": {},
   "outputs": [
    {
     "name": "stdout",
     "output_type": "stream",
     "text": [
      "INFO: Pandarallel will run on 64 workers.\n",
      "INFO: Pandarallel will use standard multiprocessing data transfer (pipe) to transfer data between the main process and workers.\n"
     ]
    }
   ],
   "source": [
    "import pandarallel\n",
    "import multiprocessing\n",
    "from pandarallel import pandarallel\n",
    "\n",
    "num_processors = multiprocessing.cpu_count()\n",
    "\n",
    "pandarallel.initialize(nb_workers=num_processors, use_memory_fs=False, progress_bar=True)"
   ]
  },
  {
   "cell_type": "markdown",
   "id": "3ebfafec-a1d8-45a9-a9e9-fa2d93b35c56",
   "metadata": {},
   "source": [
    "### Sentiment Analysis (Training the Yelp Custom Sentiment Model)"
   ]
  },
  {
   "cell_type": "code",
   "execution_count": 3,
   "id": "a4c6c962-ffa4-4d27-934f-8d36eb73514a",
   "metadata": {},
   "outputs": [],
   "source": [
    "def get_gcs_data (bucket_name, folder_name, file_name, path_local):\n",
    "    url = 'https://storage.googleapis.com/' + bucket_name + '/' + folder_name + '/' + file_name\n",
    "    r = requests.get(url)\n",
    "    open(path_local + '/' + file_name , 'wb').write(r.content)"
   ]
  },
  {
   "cell_type": "code",
   "execution_count": 4,
   "id": "9bda0ec1-1bb0-4359-a6de-4ad043388057",
   "metadata": {},
   "outputs": [],
   "source": [
    "path_yelp_data = '/home/jupyter/yelp'\n",
    "path_yelp_model = '/home/jupyter/data/yelp/yelp_model/'\n",
    "\n",
    "os.makedirs(path_yelp_data, exist_ok=True)\n",
    "os.makedirs(path_yelp_model, exist_ok=True)"
   ]
  },
  {
   "cell_type": "code",
   "execution_count": 5,
   "id": "f9f72ed7-502d-4647-8768-393efde63f53",
   "metadata": {},
   "outputs": [
    {
     "name": "stdout",
     "output_type": "stream",
     "text": [
      "Downloaded: model.joblib\n",
      "Downloaded: nb.joblib\n",
      "Downloaded: logreg.joblib\n",
      "Downloaded: svm.joblib\n"
     ]
    }
   ],
   "source": [
    "bucket_name = 'msca-bdp-data-open'\n",
    "folder_name = 'yelp/yelp_model'\n",
    "file_name = ['model.joblib', \n",
    "             'nb.joblib', 'logreg.joblib', 'svm.joblib',\n",
    "             # 'nb_small.joblib', 'logreg_small.joblib', 'svm_small.joblib'\n",
    "            ]\n",
    "path_local = path_yelp_model\n",
    "\n",
    "os.makedirs(path_local, exist_ok=True)\n",
    "\n",
    "for file in file_name:\n",
    "    get_gcs_data (bucket_name = bucket_name,\n",
    "                 folder_name = folder_name,\n",
    "                 file_name = file,\n",
    "                 path_local = path_local)\n",
    "    print('Downloaded: ' + file)"
   ]
  },
  {
   "cell_type": "code",
   "execution_count": 6,
   "id": "4f0c3b7d-16de-4b89-b8f7-35734b27e616",
   "metadata": {},
   "outputs": [
    {
     "name": "stdout",
     "output_type": "stream",
     "text": [
      "total 1848488\n",
      "-rw-r--r-- 1 jupyter jupyter 522995808 May 19 19:41 logreg.joblib\n",
      "-rw-r--r-- 1 jupyter jupyter   7661465 May 19 19:41 model.joblib\n",
      "-rw-r--r-- 1 jupyter jupyter 839186606 May 19 19:41 nb.joblib\n",
      "-rw-r--r-- 1 jupyter jupyter 522996092 May 19 19:42 svm.joblib\n"
     ]
    }
   ],
   "source": [
    "!ls -l /home/jupyter/data/yelp/yelp_model/"
   ]
  },
  {
   "cell_type": "code",
   "execution_count": 7,
   "id": "7afc012b-c8ed-4b98-8389-d69cb23b1b21",
   "metadata": {},
   "outputs": [
    {
     "name": "stdout",
     "output_type": "stream",
     "text": [
      "CPU times: user 42.6 s, sys: 1.99 s, total: 44.6 s\n",
      "Wall time: 43.8 s\n"
     ]
    }
   ],
   "source": [
    "# Logistic Regression\n",
    "%time clf_large = load(os.path.join(path_yelp_model, 'logreg.joblib'))"
   ]
  },
  {
   "cell_type": "code",
   "execution_count": 8,
   "id": "a1ea6663-abe7-4924-b00f-9810595bd1c8",
   "metadata": {},
   "outputs": [
    {
     "name": "stdout",
     "output_type": "stream",
     "text": [
      "CPU times: user 14.9 s, sys: 2.66 s, total: 17.6 s\n",
      "Wall time: 14.3 s\n"
     ]
    },
    {
     "data": {
      "text/plain": [
       "(170984, 9)"
      ]
     },
     "execution_count": 8,
     "metadata": {},
     "output_type": "execute_result"
    }
   ],
   "source": [
    "%%time\n",
    "\n",
    "df = pd.read_parquet('new_df_clean_withtokens.parquet', engine='pyarrow')\n",
    "df.shape"
   ]
  },
  {
   "cell_type": "code",
   "execution_count": 9,
   "id": "fa066d7e-cb68-4444-a9a7-6deea0086970",
   "metadata": {},
   "outputs": [
    {
     "data": {
      "text/html": [
       "<div>\n",
       "<style scoped>\n",
       "    .dataframe tbody tr th:only-of-type {\n",
       "        vertical-align: middle;\n",
       "    }\n",
       "\n",
       "    .dataframe tbody tr th {\n",
       "        vertical-align: top;\n",
       "    }\n",
       "\n",
       "    .dataframe thead th {\n",
       "        text-align: right;\n",
       "    }\n",
       "</style>\n",
       "<table border=\"1\" class=\"dataframe\">\n",
       "  <thead>\n",
       "    <tr style=\"text-align: right;\">\n",
       "      <th></th>\n",
       "      <th>date</th>\n",
       "      <th>year</th>\n",
       "      <th>month</th>\n",
       "      <th>day</th>\n",
       "      <th>dayofweek</th>\n",
       "      <th>clean_title</th>\n",
       "      <th>clean_text</th>\n",
       "      <th>clean_title_tokens</th>\n",
       "      <th>clean_text_tokens</th>\n",
       "    </tr>\n",
       "  </thead>\n",
       "  <tbody>\n",
       "    <tr>\n",
       "      <th>84444</th>\n",
       "      <td>2021-03-30</td>\n",
       "      <td>2021</td>\n",
       "      <td>3</td>\n",
       "      <td>30</td>\n",
       "      <td>1</td>\n",
       "      <td>Cambridge Quantum Computing Pioneers Quantum M...</td>\n",
       "      <td>Cambridge Quantum Computing Pioneers Quantum M...</td>\n",
       "      <td>[cambridge, quantum, computing, pioneers, quan...</td>\n",
       "      <td>[cambridge, quantum, computing, pioneers, quan...</td>\n",
       "    </tr>\n",
       "    <tr>\n",
       "      <th>35622</th>\n",
       "      <td>2022-12-08</td>\n",
       "      <td>2022</td>\n",
       "      <td>12</td>\n",
       "      <td>8</td>\n",
       "      <td>3</td>\n",
       "      <td>Aetina Launches New ASICBased Edge AI System P...</td>\n",
       "      <td>Aetina Launches New ASICBased Edge AI System P...</td>\n",
       "      <td>[aetina, launches, new, asicbased, edge, ai, s...</td>\n",
       "      <td>[aetina, launches, new, asicbased, edge, ai, s...</td>\n",
       "    </tr>\n",
       "    <tr>\n",
       "      <th>140578</th>\n",
       "      <td>2020-12-04</td>\n",
       "      <td>2020</td>\n",
       "      <td>12</td>\n",
       "      <td>4</td>\n",
       "      <td>4</td>\n",
       "      <td>Emotion AI Software Market To Observe Exponent...</td>\n",
       "      <td>Emotion AI Software Market To Observe Exponent...</td>\n",
       "      <td>[emotion, ai, software, market, observe, expon...</td>\n",
       "      <td>[emotion, ai, software, market, observe, expon...</td>\n",
       "    </tr>\n",
       "  </tbody>\n",
       "</table>\n",
       "</div>"
      ],
      "text/plain": [
       "             date  year  month  day  dayofweek  \\\n",
       "84444  2021-03-30  2021      3   30          1   \n",
       "35622  2022-12-08  2022     12    8          3   \n",
       "140578 2020-12-04  2020     12    4          4   \n",
       "\n",
       "                                              clean_title  \\\n",
       "84444   Cambridge Quantum Computing Pioneers Quantum M...   \n",
       "35622   Aetina Launches New ASICBased Edge AI System P...   \n",
       "140578  Emotion AI Software Market To Observe Exponent...   \n",
       "\n",
       "                                               clean_text  \\\n",
       "84444   Cambridge Quantum Computing Pioneers Quantum M...   \n",
       "35622   Aetina Launches New ASICBased Edge AI System P...   \n",
       "140578  Emotion AI Software Market To Observe Exponent...   \n",
       "\n",
       "                                       clean_title_tokens  \\\n",
       "84444   [cambridge, quantum, computing, pioneers, quan...   \n",
       "35622   [aetina, launches, new, asicbased, edge, ai, s...   \n",
       "140578  [emotion, ai, software, market, observe, expon...   \n",
       "\n",
       "                                        clean_text_tokens  \n",
       "84444   [cambridge, quantum, computing, pioneers, quan...  \n",
       "35622   [aetina, launches, new, asicbased, edge, ai, s...  \n",
       "140578  [emotion, ai, software, market, observe, expon...  "
      ]
     },
     "execution_count": 9,
     "metadata": {},
     "output_type": "execute_result"
    }
   ],
   "source": [
    "df.sample(3, random_state = 42)"
   ]
  },
  {
   "cell_type": "code",
   "execution_count": 10,
   "id": "d91e4cfc-0e38-4e83-ad97-172fe5bbead3",
   "metadata": {},
   "outputs": [],
   "source": [
    "X_test = df['clean_text']"
   ]
  },
  {
   "cell_type": "code",
   "execution_count": 11,
   "id": "0d68c727-7f22-4126-8186-4d5cd4cc8ac0",
   "metadata": {},
   "outputs": [
    {
     "name": "stdout",
     "output_type": "stream",
     "text": [
      "CPU times: user 4min 16s, sys: 556 ms, total: 4min 17s\n",
      "Wall time: 4min 17s\n"
     ]
    }
   ],
   "source": [
    "%%time\n",
    "\n",
    "y_pred = clf_large.predict(X_test)"
   ]
  },
  {
   "cell_type": "code",
   "execution_count": 13,
   "id": "e85b6bc1-6b29-4291-a7ce-ff79c277a66d",
   "metadata": {},
   "outputs": [],
   "source": [
    "df['sentiment'] = y_pred"
   ]
  },
  {
   "cell_type": "code",
   "execution_count": 15,
   "id": "510750a6-8442-4ea5-9935-df27a35c9433",
   "metadata": {},
   "outputs": [
    {
     "data": {
      "text/html": [
       "<div>\n",
       "<style scoped>\n",
       "    .dataframe tbody tr th:only-of-type {\n",
       "        vertical-align: middle;\n",
       "    }\n",
       "\n",
       "    .dataframe tbody tr th {\n",
       "        vertical-align: top;\n",
       "    }\n",
       "\n",
       "    .dataframe thead th {\n",
       "        text-align: right;\n",
       "    }\n",
       "</style>\n",
       "<table border=\"1\" class=\"dataframe\">\n",
       "  <thead>\n",
       "    <tr style=\"text-align: right;\">\n",
       "      <th></th>\n",
       "      <th>clean_text</th>\n",
       "      <th>sentiment</th>\n",
       "    </tr>\n",
       "  </thead>\n",
       "  <tbody>\n",
       "    <tr>\n",
       "      <th>84444</th>\n",
       "      <td>Cambridge Quantum Computing Pioneers Quantum M...</td>\n",
       "      <td>1</td>\n",
       "    </tr>\n",
       "    <tr>\n",
       "      <th>35622</th>\n",
       "      <td>Aetina Launches New ASICBased Edge AI System P...</td>\n",
       "      <td>1</td>\n",
       "    </tr>\n",
       "    <tr>\n",
       "      <th>140578</th>\n",
       "      <td>Emotion AI Software Market To Observe Exponent...</td>\n",
       "      <td>0</td>\n",
       "    </tr>\n",
       "    <tr>\n",
       "      <th>166864</th>\n",
       "      <td>Dystopia Prime: Amazon AI van cameras spark su...</td>\n",
       "      <td>0</td>\n",
       "    </tr>\n",
       "    <tr>\n",
       "      <th>168822</th>\n",
       "      <td>Researcher uses AI to make texts that are thou...</td>\n",
       "      <td>0</td>\n",
       "    </tr>\n",
       "    <tr>\n",
       "      <th>90038</th>\n",
       "      <td>Lunit Meets MDR CE Requirements for 3D Breast ...</td>\n",
       "      <td>0</td>\n",
       "    </tr>\n",
       "    <tr>\n",
       "      <th>72529</th>\n",
       "      <td>US launches artificial intelligence military ...</td>\n",
       "      <td>0</td>\n",
       "    </tr>\n",
       "    <tr>\n",
       "      <th>179464</th>\n",
       "      <td>ChatGPTdriven smart home voice assistant comin...</td>\n",
       "      <td>1</td>\n",
       "    </tr>\n",
       "    <tr>\n",
       "      <th>80008</th>\n",
       "      <td>Cybersecurity Services Market Tackles HyperCo...</td>\n",
       "      <td>0</td>\n",
       "    </tr>\n",
       "    <tr>\n",
       "      <th>119820</th>\n",
       "      <td>Supermicro Accelerates Delivery of HPC Cluster...</td>\n",
       "      <td>0</td>\n",
       "    </tr>\n",
       "  </tbody>\n",
       "</table>\n",
       "</div>"
      ],
      "text/plain": [
       "                                               clean_text  sentiment\n",
       "84444   Cambridge Quantum Computing Pioneers Quantum M...          1\n",
       "35622   Aetina Launches New ASICBased Edge AI System P...          1\n",
       "140578  Emotion AI Software Market To Observe Exponent...          0\n",
       "166864  Dystopia Prime: Amazon AI van cameras spark su...          0\n",
       "168822  Researcher uses AI to make texts that are thou...          0\n",
       "90038   Lunit Meets MDR CE Requirements for 3D Breast ...          0\n",
       "72529    US launches artificial intelligence military ...          0\n",
       "179464  ChatGPTdriven smart home voice assistant comin...          1\n",
       "80008    Cybersecurity Services Market Tackles HyperCo...          0\n",
       "119820  Supermicro Accelerates Delivery of HPC Cluster...          0"
      ]
     },
     "execution_count": 15,
     "metadata": {},
     "output_type": "execute_result"
    }
   ],
   "source": [
    "df[['clean_text', 'sentiment']].sample(10, random_state = 42)"
   ]
  },
  {
   "cell_type": "code",
   "execution_count": 17,
   "id": "f07c6a2c-9d88-4c74-ae69-611bc2bc16ba",
   "metadata": {},
   "outputs": [
    {
     "data": {
      "text/plain": [
       "0    101981\n",
       "1     69003\n",
       "Name: sentiment, dtype: int64"
      ]
     },
     "execution_count": 17,
     "metadata": {},
     "output_type": "execute_result"
    }
   ],
   "source": [
    "# 0 is negative, 1 is positive \n",
    "df['sentiment'].value_counts()"
   ]
  },
  {
   "cell_type": "code",
   "execution_count": 18,
   "id": "90d01b74-1a30-46a8-a5f1-7f5cf71f7c85",
   "metadata": {},
   "outputs": [],
   "source": [
    "df.to_parquet('df_sentiment.parquet')"
   ]
  },
  {
   "cell_type": "code",
   "execution_count": null,
   "id": "554456c9-4d9b-49ca-ae04-928c3ed3a1ce",
   "metadata": {},
   "outputs": [],
   "source": []
  }
 ],
 "metadata": {
  "environment": {
   "kernel": "python3",
   "name": "common-cpu.m108",
   "type": "gcloud",
   "uri": "gcr.io/deeplearning-platform-release/base-cpu:m108"
  },
  "kernelspec": {
   "display_name": "Python 3 (ipykernel)",
   "language": "python",
   "name": "python3"
  },
  "language_info": {
   "codemirror_mode": {
    "name": "ipython",
    "version": 3
   },
   "file_extension": ".py",
   "mimetype": "text/x-python",
   "name": "python",
   "nbconvert_exporter": "python",
   "pygments_lexer": "ipython3",
   "version": "3.10.9"
  }
 },
 "nbformat": 4,
 "nbformat_minor": 5
}
