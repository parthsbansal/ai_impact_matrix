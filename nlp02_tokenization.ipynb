{
 "cells": [
  {
   "cell_type": "code",
   "execution_count": 1,
   "id": "3831e727-4e8d-4d55-a494-59db20b739d1",
   "metadata": {},
   "outputs": [],
   "source": [
    "import pandas as pd\n",
    "import re \n",
    "import nltk as nltk\n",
    "import numpy as np\n",
    "import matplotlib.pyplot as plt\n",
    "import seaborn as sns\n",
    "import spacy\n",
    "import time\n",
    "import math\n",
    "import string\n",
    "import gensim\n",
    "import pyLDAvis\n",
    "import seaborn as sns \n",
    "import matplotlib.pyplot as plt\n",
    "import pyLDAvis.gensim\n",
    "#import pyLDAvis.gensim_models as gensimvis\n",
    "\n",
    "from textblob import TextBlob\n",
    "from nltk.corpus import stopwords\n",
    "from nltk.stem.wordnet import WordNetLemmatizer\n",
    "from gensim import corpora, models\n",
    "from gensim.models.ldamulticore import LdaMulticore\n",
    "\n",
    "#pyLDAvis.enable_notebook()\n",
    "#nlp = spacy.load(\"en_core_web_sm\")"
   ]
  },
  {
   "cell_type": "code",
   "execution_count": 2,
   "id": "1eaac691-7a47-43ad-a45c-9c5ebfa37410",
   "metadata": {},
   "outputs": [
    {
     "data": {
      "text/plain": [
       "8"
      ]
     },
     "execution_count": 2,
     "metadata": {},
     "output_type": "execute_result"
    }
   ],
   "source": [
    "import multiprocessing \n",
    "multiprocessing.cpu_count()"
   ]
  },
  {
   "cell_type": "code",
   "execution_count": 3,
   "id": "f6b3d8c3-522c-4638-b106-63a478ae3c11",
   "metadata": {},
   "outputs": [
    {
     "name": "stdout",
     "output_type": "stream",
     "text": [
      "INFO: Pandarallel will run on 8 workers.\n",
      "INFO: Pandarallel will use standard multiprocessing data transfer (pipe) to transfer data between the main process and workers.\n"
     ]
    }
   ],
   "source": [
    "import pandarallel\n",
    "from pandarallel import pandarallel\n",
    "pandarallel.initialize(progress_bar=True)"
   ]
  },
  {
   "cell_type": "code",
   "execution_count": 4,
   "id": "3853e439-35d6-415c-8e94-df367814d953",
   "metadata": {},
   "outputs": [
    {
     "name": "stderr",
     "output_type": "stream",
     "text": [
      "[nltk_data] Downloading package stopwords to\n",
      "[nltk_data]     /Users/parthbansal/nltk_data...\n",
      "[nltk_data]   Package stopwords is already up-to-date!\n",
      "[nltk_data] Downloading package wordnet to\n",
      "[nltk_data]     /Users/parthbansal/nltk_data...\n",
      "[nltk_data]   Package wordnet is already up-to-date!\n",
      "[nltk_data] Downloading package omw-1.4 to\n",
      "[nltk_data]     /Users/parthbansal/nltk_data...\n",
      "[nltk_data]   Package omw-1.4 is already up-to-date!\n",
      "[nltk_data] Downloading package punkt to\n",
      "[nltk_data]     /Users/parthbansal/nltk_data...\n",
      "[nltk_data]   Package punkt is already up-to-date!\n"
     ]
    },
    {
     "data": {
      "text/plain": [
       "True"
      ]
     },
     "execution_count": 4,
     "metadata": {},
     "output_type": "execute_result"
    }
   ],
   "source": [
    "nltk.download('stopwords')\n",
    "nltk.download('wordnet')\n",
    "nltk.download('omw-1.4')\n",
    "nltk.download('punkt')"
   ]
  },
  {
   "cell_type": "code",
   "execution_count": 5,
   "id": "f26c2921-17ad-4617-ba64-81218cdf115f",
   "metadata": {},
   "outputs": [
    {
     "name": "stdout",
     "output_type": "stream",
     "text": [
      "CPU times: user 2.35 s, sys: 2.18 s, total: 4.54 s\n",
      "Wall time: 4.51 s\n"
     ]
    },
    {
     "data": {
      "text/plain": [
       "(170984, 9)"
      ]
     },
     "execution_count": 5,
     "metadata": {},
     "output_type": "execute_result"
    }
   ],
   "source": [
    "%%time\n",
    "\n",
    "df = pd.read_parquet('df_clean.parquet', engine='pyarrow')\n",
    "df.shape"
   ]
  },
  {
   "cell_type": "code",
   "execution_count": 6,
   "id": "b54b0800-3bae-4c2e-a7fd-4b009252126c",
   "metadata": {},
   "outputs": [
    {
     "data": {
      "text/html": [
       "<div>\n",
       "<style scoped>\n",
       "    .dataframe tbody tr th:only-of-type {\n",
       "        vertical-align: middle;\n",
       "    }\n",
       "\n",
       "    .dataframe tbody tr th {\n",
       "        vertical-align: top;\n",
       "    }\n",
       "\n",
       "    .dataframe thead th {\n",
       "        text-align: right;\n",
       "    }\n",
       "</style>\n",
       "<table border=\"1\" class=\"dataframe\">\n",
       "  <thead>\n",
       "    <tr style=\"text-align: right;\">\n",
       "      <th></th>\n",
       "      <th>date</th>\n",
       "      <th>title</th>\n",
       "      <th>text</th>\n",
       "      <th>year</th>\n",
       "      <th>month</th>\n",
       "      <th>day</th>\n",
       "      <th>dayofweek</th>\n",
       "      <th>clean_title</th>\n",
       "      <th>clean_text</th>\n",
       "    </tr>\n",
       "  </thead>\n",
       "  <tbody>\n",
       "    <tr>\n",
       "      <th>84444</th>\n",
       "      <td>2021-03-30</td>\n",
       "      <td>Cambridge Quantum Computing Pioneers Quantum M...</td>\n",
       "      <td>Cambridge Quantum Computing Pioneers Quantum M...</td>\n",
       "      <td>2021</td>\n",
       "      <td>3</td>\n",
       "      <td>30</td>\n",
       "      <td>1</td>\n",
       "      <td>Cambridge Quantum Computing Pioneers Quantum M...</td>\n",
       "      <td>Cambridge Quantum Computing Pioneers Quantum M...</td>\n",
       "    </tr>\n",
       "    <tr>\n",
       "      <th>35622</th>\n",
       "      <td>2022-12-08</td>\n",
       "      <td>Aetina Launches New ASIC-Based Edge AI System ...</td>\n",
       "      <td>\\n\\nAetina Launches New ASIC-Based Edge AI Sys...</td>\n",
       "      <td>2022</td>\n",
       "      <td>12</td>\n",
       "      <td>8</td>\n",
       "      <td>3</td>\n",
       "      <td>Aetina Launches New ASICBased Edge AI System P...</td>\n",
       "      <td>Aetina Launches New ASICBased Edge AI System P...</td>\n",
       "    </tr>\n",
       "    <tr>\n",
       "      <th>140578</th>\n",
       "      <td>2020-12-04</td>\n",
       "      <td>Emotion AI Software Market To Observe Exponent...</td>\n",
       "      <td>\\nEmotion AI Software Market To Observe Expon...</td>\n",
       "      <td>2020</td>\n",
       "      <td>12</td>\n",
       "      <td>4</td>\n",
       "      <td>4</td>\n",
       "      <td>Emotion AI Software Market To Observe Exponent...</td>\n",
       "      <td>Emotion AI Software Market To Observe Exponent...</td>\n",
       "    </tr>\n",
       "  </tbody>\n",
       "</table>\n",
       "</div>"
      ],
      "text/plain": [
       "             date                                              title   \n",
       "84444  2021-03-30  Cambridge Quantum Computing Pioneers Quantum M...  \\\n",
       "35622  2022-12-08  Aetina Launches New ASIC-Based Edge AI System ...   \n",
       "140578 2020-12-04  Emotion AI Software Market To Observe Exponent...   \n",
       "\n",
       "                                                     text  year  month  day   \n",
       "84444   Cambridge Quantum Computing Pioneers Quantum M...  2021      3   30  \\\n",
       "35622   \\n\\nAetina Launches New ASIC-Based Edge AI Sys...  2022     12    8   \n",
       "140578   \\nEmotion AI Software Market To Observe Expon...  2020     12    4   \n",
       "\n",
       "        dayofweek                                        clean_title   \n",
       "84444           1  Cambridge Quantum Computing Pioneers Quantum M...  \\\n",
       "35622           3  Aetina Launches New ASICBased Edge AI System P...   \n",
       "140578          4  Emotion AI Software Market To Observe Exponent...   \n",
       "\n",
       "                                               clean_text  \n",
       "84444   Cambridge Quantum Computing Pioneers Quantum M...  \n",
       "35622   Aetina Launches New ASICBased Edge AI System P...  \n",
       "140578  Emotion AI Software Market To Observe Exponent...  "
      ]
     },
     "execution_count": 6,
     "metadata": {},
     "output_type": "execute_result"
    }
   ],
   "source": [
    "df.sample(3, random_state = 42)"
   ]
  },
  {
   "cell_type": "markdown",
   "id": "571e42fe-9ea3-435a-a71d-f7d8562a860d",
   "metadata": {},
   "source": [
    "### Tokenization, and further clean-up"
   ]
  },
  {
   "cell_type": "code",
   "execution_count": 7,
   "id": "939958e4-830c-4edb-a1f7-0d070098312b",
   "metadata": {},
   "outputs": [],
   "source": [
    "lemma = WordNetLemmatizer()"
   ]
  },
  {
   "cell_type": "code",
   "execution_count": 8,
   "id": "845adf5e-fe28-45c2-bb97-5661e81b89d3",
   "metadata": {},
   "outputs": [],
   "source": [
    "stopwords = set(nltk.corpus.stopwords.words('english'))\n",
    "exclude = set(string.punctuation)"
   ]
  },
  {
   "cell_type": "code",
   "execution_count": 9,
   "id": "103401e4-3118-459a-9ce1-99a8508b4b39",
   "metadata": {},
   "outputs": [],
   "source": [
    "def tokens(df,column):\n",
    "    \n",
    "    new_col = column + \"_tokens\"\n",
    "    df[new_col] = df[column].parallel_apply(lambda x: nltk.tokenize.word_tokenize(x))\n",
    "    \n",
    "    df[new_col] = df[new_col].parallel_apply(lambda x: [lemma.lemmatize(word) for word in x])\n",
    "    df[new_col] = df[new_col].parallel_apply(lambda x: [word.lower() for word in x if word.isalpha()])\n",
    "    df[new_col] = df[new_col].parallel_apply(lambda x: [word for word in x if word not in stopwords])\n",
    "    df[new_col] = df[new_col].parallel_apply(lambda x: [word for word in x if len(word)>1])\n",
    "    df[new_col] = df[new_col].parallel_apply(lambda x: list((x)))"
   ]
  },
  {
   "cell_type": "code",
   "execution_count": 10,
   "id": "56b01b97-3a77-45a0-a361-c8bc5c9af260",
   "metadata": {
    "collapsed": true
   },
   "outputs": [
    {
     "data": {
      "application/vnd.jupyter.widget-view+json": {
       "model_id": "6a390425061c425cbb6669e996cc3ed9",
       "version_major": 2,
       "version_minor": 0
      },
      "text/plain": [
       "VBox(children=(HBox(children=(IntProgress(value=0, description='0.00%', max=21373), Label(value='0 / 21373')))…"
      ]
     },
     "metadata": {},
     "output_type": "display_data"
    },
    {
     "data": {
      "application/vnd.jupyter.widget-view+json": {
       "model_id": "e8abd0c87de04902b6c3df90a057a5f9",
       "version_major": 2,
       "version_minor": 0
      },
      "text/plain": [
       "VBox(children=(HBox(children=(IntProgress(value=0, description='0.00%', max=21373), Label(value='0 / 21373')))…"
      ]
     },
     "metadata": {},
     "output_type": "display_data"
    },
    {
     "data": {
      "application/vnd.jupyter.widget-view+json": {
       "model_id": "b0028a47282042e7b92d9c6c8470fe3d",
       "version_major": 2,
       "version_minor": 0
      },
      "text/plain": [
       "VBox(children=(HBox(children=(IntProgress(value=0, description='0.00%', max=21373), Label(value='0 / 21373')))…"
      ]
     },
     "metadata": {},
     "output_type": "display_data"
    },
    {
     "data": {
      "application/vnd.jupyter.widget-view+json": {
       "model_id": "b593bf44492f4a519a779f190461c17c",
       "version_major": 2,
       "version_minor": 0
      },
      "text/plain": [
       "VBox(children=(HBox(children=(IntProgress(value=0, description='0.00%', max=21373), Label(value='0 / 21373')))…"
      ]
     },
     "metadata": {},
     "output_type": "display_data"
    },
    {
     "data": {
      "application/vnd.jupyter.widget-view+json": {
       "model_id": "71f1692860f44cb79092ee5f7fd37a78",
       "version_major": 2,
       "version_minor": 0
      },
      "text/plain": [
       "VBox(children=(HBox(children=(IntProgress(value=0, description='0.00%', max=21373), Label(value='0 / 21373')))…"
      ]
     },
     "metadata": {},
     "output_type": "display_data"
    },
    {
     "data": {
      "application/vnd.jupyter.widget-view+json": {
       "model_id": "190f55c12af94fd9a0da7f28a94bfdd8",
       "version_major": 2,
       "version_minor": 0
      },
      "text/plain": [
       "VBox(children=(HBox(children=(IntProgress(value=0, description='0.00%', max=21373), Label(value='0 / 21373')))…"
      ]
     },
     "metadata": {},
     "output_type": "display_data"
    },
    {
     "name": "stdout",
     "output_type": "stream",
     "text": [
      "CPU times: user 3.03 s, sys: 1.43 s, total: 4.45 s\n",
      "Wall time: 8.96 s\n"
     ]
    }
   ],
   "source": [
    "%time tokens(df, \"clean_title\")"
   ]
  },
  {
   "cell_type": "code",
   "execution_count": 11,
   "id": "5b6df780-6d92-464c-8a70-930855ab4c05",
   "metadata": {},
   "outputs": [
    {
     "data": {
      "application/vnd.jupyter.widget-view+json": {
       "model_id": "a8913ee7060f4b17aaf4fc166188e8e3",
       "version_major": 2,
       "version_minor": 0
      },
      "text/plain": [
       "VBox(children=(HBox(children=(IntProgress(value=0, description='0.00%', max=21373), Label(value='0 / 21373')))…"
      ]
     },
     "metadata": {},
     "output_type": "display_data"
    },
    {
     "data": {
      "application/vnd.jupyter.widget-view+json": {
       "model_id": "015249bb046f4a6e96a684ce801ab0af",
       "version_major": 2,
       "version_minor": 0
      },
      "text/plain": [
       "VBox(children=(HBox(children=(IntProgress(value=0, description='0.00%', max=21373), Label(value='0 / 21373')))…"
      ]
     },
     "metadata": {},
     "output_type": "display_data"
    },
    {
     "data": {
      "application/vnd.jupyter.widget-view+json": {
       "model_id": "cf36cefacde24cdf888f608771d1c436",
       "version_major": 2,
       "version_minor": 0
      },
      "text/plain": [
       "VBox(children=(HBox(children=(IntProgress(value=0, description='0.00%', max=21373), Label(value='0 / 21373')))…"
      ]
     },
     "metadata": {},
     "output_type": "display_data"
    },
    {
     "data": {
      "application/vnd.jupyter.widget-view+json": {
       "model_id": "75b8836d4b5941268791cc5a66542059",
       "version_major": 2,
       "version_minor": 0
      },
      "text/plain": [
       "VBox(children=(HBox(children=(IntProgress(value=0, description='0.00%', max=21373), Label(value='0 / 21373')))…"
      ]
     },
     "metadata": {},
     "output_type": "display_data"
    },
    {
     "data": {
      "application/vnd.jupyter.widget-view+json": {
       "model_id": "f04b5dfe53c547ff9710c994774c1817",
       "version_major": 2,
       "version_minor": 0
      },
      "text/plain": [
       "VBox(children=(HBox(children=(IntProgress(value=0, description='0.00%', max=21373), Label(value='0 / 21373')))…"
      ]
     },
     "metadata": {},
     "output_type": "display_data"
    },
    {
     "data": {
      "application/vnd.jupyter.widget-view+json": {
       "model_id": "977a88d7608d48a4828ff9cd9daff6ba",
       "version_major": 2,
       "version_minor": 0
      },
      "text/plain": [
       "VBox(children=(HBox(children=(IntProgress(value=0, description='0.00%', max=21373), Label(value='0 / 21373')))…"
      ]
     },
     "metadata": {},
     "output_type": "display_data"
    },
    {
     "name": "stdout",
     "output_type": "stream",
     "text": [
      "CPU times: user 2min 59s, sys: 3min 4s, total: 6min 3s\n",
      "Wall time: 20min 15s\n"
     ]
    }
   ],
   "source": [
    "%time tokens(df, \"clean_text\")"
   ]
  },
  {
   "cell_type": "code",
   "execution_count": 12,
   "id": "0cdb7457-5a9b-4eb5-8fb7-55d928af1d52",
   "metadata": {},
   "outputs": [
    {
     "data": {
      "text/html": [
       "<div>\n",
       "<style scoped>\n",
       "    .dataframe tbody tr th:only-of-type {\n",
       "        vertical-align: middle;\n",
       "    }\n",
       "\n",
       "    .dataframe tbody tr th {\n",
       "        vertical-align: top;\n",
       "    }\n",
       "\n",
       "    .dataframe thead th {\n",
       "        text-align: right;\n",
       "    }\n",
       "</style>\n",
       "<table border=\"1\" class=\"dataframe\">\n",
       "  <thead>\n",
       "    <tr style=\"text-align: right;\">\n",
       "      <th></th>\n",
       "      <th>date</th>\n",
       "      <th>title</th>\n",
       "      <th>text</th>\n",
       "      <th>year</th>\n",
       "      <th>month</th>\n",
       "      <th>day</th>\n",
       "      <th>dayofweek</th>\n",
       "      <th>clean_title</th>\n",
       "      <th>clean_text</th>\n",
       "      <th>clean_title_tokens</th>\n",
       "      <th>clean_text_tokens</th>\n",
       "    </tr>\n",
       "  </thead>\n",
       "  <tbody>\n",
       "    <tr>\n",
       "      <th>0</th>\n",
       "      <td>2021-03-18</td>\n",
       "      <td>Artificial intelligence improves parking effic...</td>\n",
       "      <td>\\n\\nArtificial intelligence improves parking e...</td>\n",
       "      <td>2021</td>\n",
       "      <td>3</td>\n",
       "      <td>18</td>\n",
       "      <td>3</td>\n",
       "      <td>Artificial intelligence improves parking effic...</td>\n",
       "      <td>Artificial intelligence improves parking effic...</td>\n",
       "      <td>[artificial, intelligence, improves, parking, ...</td>\n",
       "      <td>[artificial, intelligence, improves, parking, ...</td>\n",
       "    </tr>\n",
       "    <tr>\n",
       "      <th>1</th>\n",
       "      <td>2020-02-27</td>\n",
       "      <td>Children With Autism Saw Their Learning and So...</td>\n",
       "      <td>\\nChildren With Autism Saw Their Learning and ...</td>\n",
       "      <td>2020</td>\n",
       "      <td>2</td>\n",
       "      <td>27</td>\n",
       "      <td>3</td>\n",
       "      <td>Children With Autism Saw Their Learning and So...</td>\n",
       "      <td>Children With Autism Saw Their Learning and So...</td>\n",
       "      <td>[children, autism, saw, learning, social, skil...</td>\n",
       "      <td>[children, autism, saw, learning, social, skil...</td>\n",
       "    </tr>\n",
       "    <tr>\n",
       "      <th>2</th>\n",
       "      <td>2021-03-26</td>\n",
       "      <td>Forget ML, AI and Industry 4.0 – obsolescence ...</td>\n",
       "      <td>\\n\\nForget ML, AI and Industry 4.0 – obsolesce...</td>\n",
       "      <td>2021</td>\n",
       "      <td>3</td>\n",
       "      <td>26</td>\n",
       "      <td>4</td>\n",
       "      <td>Forget ML, AI and Industry 4.0 obsolescence sh...</td>\n",
       "      <td>Forget ML, AI and Industry 4.0 obsolescence sh...</td>\n",
       "      <td>[forget, ml, ai, industry, obsolescence, focus...</td>\n",
       "      <td>[forget, ml, ai, industry, obsolescence, focus...</td>\n",
       "    </tr>\n",
       "    <tr>\n",
       "      <th>3</th>\n",
       "      <td>2021-03-10</td>\n",
       "      <td>Strategy Analytics: 71% of Smartphones Sold Gl...</td>\n",
       "      <td>\\n\\nStrategy Analytics: 71% of Smartphones Sol...</td>\n",
       "      <td>2021</td>\n",
       "      <td>3</td>\n",
       "      <td>10</td>\n",
       "      <td>2</td>\n",
       "      <td>Strategy Analytics: 71 of Smartphones Sold Glo...</td>\n",
       "      <td>Strategy Analytics: 71 of Smartphones Sold Glo...</td>\n",
       "      <td>[strategy, analytics, smartphones, sold, globa...</td>\n",
       "      <td>[strategy, analytics, smartphones, sold, globa...</td>\n",
       "    </tr>\n",
       "    <tr>\n",
       "      <th>4</th>\n",
       "      <td>2020-10-20</td>\n",
       "      <td>Olympus to Support Endoscopic AI Diagnosis Edu...</td>\n",
       "      <td>\\n\\nOlympus to Support Endoscopic AI Diagnosis...</td>\n",
       "      <td>2020</td>\n",
       "      <td>10</td>\n",
       "      <td>20</td>\n",
       "      <td>1</td>\n",
       "      <td>Olympus to Support Endoscopic AI Diagnosis Edu...</td>\n",
       "      <td>Olympus to Support Endoscopic AI Diagnosis Edu...</td>\n",
       "      <td>[olympus, support, endoscopic, ai, diagnosis, ...</td>\n",
       "      <td>[olympus, support, endoscopic, ai, diagnosis, ...</td>\n",
       "    </tr>\n",
       "  </tbody>\n",
       "</table>\n",
       "</div>"
      ],
      "text/plain": [
       "        date                                              title   \n",
       "0 2021-03-18  Artificial intelligence improves parking effic...  \\\n",
       "1 2020-02-27  Children With Autism Saw Their Learning and So...   \n",
       "2 2021-03-26  Forget ML, AI and Industry 4.0 – obsolescence ...   \n",
       "3 2021-03-10  Strategy Analytics: 71% of Smartphones Sold Gl...   \n",
       "4 2020-10-20  Olympus to Support Endoscopic AI Diagnosis Edu...   \n",
       "\n",
       "                                                text  year  month  day   \n",
       "0  \\n\\nArtificial intelligence improves parking e...  2021      3   18  \\\n",
       "1  \\nChildren With Autism Saw Their Learning and ...  2020      2   27   \n",
       "2  \\n\\nForget ML, AI and Industry 4.0 – obsolesce...  2021      3   26   \n",
       "3  \\n\\nStrategy Analytics: 71% of Smartphones Sol...  2021      3   10   \n",
       "4  \\n\\nOlympus to Support Endoscopic AI Diagnosis...  2020     10   20   \n",
       "\n",
       "   dayofweek                                        clean_title   \n",
       "0          3  Artificial intelligence improves parking effic...  \\\n",
       "1          3  Children With Autism Saw Their Learning and So...   \n",
       "2          4  Forget ML, AI and Industry 4.0 obsolescence sh...   \n",
       "3          2  Strategy Analytics: 71 of Smartphones Sold Glo...   \n",
       "4          1  Olympus to Support Endoscopic AI Diagnosis Edu...   \n",
       "\n",
       "                                          clean_text   \n",
       "0  Artificial intelligence improves parking effic...  \\\n",
       "1  Children With Autism Saw Their Learning and So...   \n",
       "2  Forget ML, AI and Industry 4.0 obsolescence sh...   \n",
       "3  Strategy Analytics: 71 of Smartphones Sold Glo...   \n",
       "4  Olympus to Support Endoscopic AI Diagnosis Edu...   \n",
       "\n",
       "                                  clean_title_tokens   \n",
       "0  [artificial, intelligence, improves, parking, ...  \\\n",
       "1  [children, autism, saw, learning, social, skil...   \n",
       "2  [forget, ml, ai, industry, obsolescence, focus...   \n",
       "3  [strategy, analytics, smartphones, sold, globa...   \n",
       "4  [olympus, support, endoscopic, ai, diagnosis, ...   \n",
       "\n",
       "                                   clean_text_tokens  \n",
       "0  [artificial, intelligence, improves, parking, ...  \n",
       "1  [children, autism, saw, learning, social, skil...  \n",
       "2  [forget, ml, ai, industry, obsolescence, focus...  \n",
       "3  [strategy, analytics, smartphones, sold, globa...  \n",
       "4  [olympus, support, endoscopic, ai, diagnosis, ...  "
      ]
     },
     "execution_count": 12,
     "metadata": {},
     "output_type": "execute_result"
    }
   ],
   "source": [
    "df.head()"
   ]
  },
  {
   "cell_type": "code",
   "execution_count": 13,
   "id": "bb53456f-f424-4b8e-b0bc-15bc47a407cf",
   "metadata": {},
   "outputs": [],
   "source": [
    "df.to_parquet('df_clean_withtokens.parquet')"
   ]
  },
  {
   "cell_type": "code",
   "execution_count": null,
   "id": "d7ce7c4e-1808-415a-ba9c-b63815d00e8c",
   "metadata": {},
   "outputs": [],
   "source": []
  }
 ],
 "metadata": {
  "environment": {
   "kernel": "python3",
   "name": "common-cpu.m108",
   "type": "gcloud",
   "uri": "gcr.io/deeplearning-platform-release/base-cpu:m108"
  },
  "kernelspec": {
   "display_name": "Python 3 (ipykernel)",
   "language": "python",
   "name": "python3"
  },
  "language_info": {
   "codemirror_mode": {
    "name": "ipython",
    "version": 3
   },
   "file_extension": ".py",
   "mimetype": "text/x-python",
   "name": "python",
   "nbconvert_exporter": "python",
   "pygments_lexer": "ipython3",
   "version": "3.10.9"
  }
 },
 "nbformat": 4,
 "nbformat_minor": 5
}
