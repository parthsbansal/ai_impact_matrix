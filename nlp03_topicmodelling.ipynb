{
 "cells": [
  {
   "cell_type": "code",
   "execution_count": 3,
   "id": "e664d5dc-ec57-44da-a0e8-0e49fb227726",
   "metadata": {},
   "outputs": [],
   "source": [
    "import pandas as pd\n",
    "import re \n",
    "import nltk as nltk\n",
    "import numpy as np\n",
    "import matplotlib.pyplot as plt\n",
    "import seaborn as sns\n",
    "import spacy\n",
    "import time\n",
    "import math\n",
    "import string\n",
    "import gensim\n",
    "import pyLDAvis\n",
    "import seaborn as sns \n",
    "import matplotlib.pyplot as plt\n",
    "#import pyLDAvis.gensim\n",
    "#import pyLDAvis.gensim_models as gensimvis\n",
    "import warnings\n",
    "warnings.simplefilter('ignore')\n",
    "\n",
    "from textblob import TextBlob\n",
    "from nltk.corpus import stopwords\n",
    "from nltk.stem.wordnet import WordNetLemmatizer\n",
    "from gensim import corpora, models\n",
    "from gensim.models.ldamulticore import LdaMulticore\n",
    "\n",
    "pyLDAvis.enable_notebook()\n",
    "#nlp = spacy.load(\"en_core_web_sm\")"
   ]
  },
  {
   "cell_type": "code",
   "execution_count": 4,
   "id": "3ba2e685-d297-4dda-b6f4-af9414c4082d",
   "metadata": {},
   "outputs": [
    {
     "name": "stdout",
     "output_type": "stream",
     "text": [
      "INFO: Pandarallel will run on 64 workers.\n",
      "INFO: Pandarallel will use standard multiprocessing data transfer (pipe) to transfer data between the main process and workers.\n"
     ]
    }
   ],
   "source": [
    "import pandarallel\n",
    "import multiprocessing\n",
    "from pandarallel import pandarallel\n",
    "\n",
    "num_processors = multiprocessing.cpu_count()\n",
    "\n",
    "pandarallel.initialize(nb_workers=num_processors, use_memory_fs=False, progress_bar=True)"
   ]
  },
  {
   "cell_type": "code",
   "execution_count": 6,
   "id": "992e498f-2494-4d93-ba50-9e443318f358",
   "metadata": {},
   "outputs": [
    {
     "name": "stdout",
     "output_type": "stream",
     "text": [
      "CPU times: user 23 s, sys: 6.23 s, total: 29.3 s\n",
      "Wall time: 21.2 s\n"
     ]
    },
    {
     "data": {
      "text/plain": [
       "(170984, 11)"
      ]
     },
     "execution_count": 6,
     "metadata": {},
     "output_type": "execute_result"
    }
   ],
   "source": [
    "%%time\n",
    "\n",
    "df = pd.read_parquet('df_clean_withtokens.parquet', engine='pyarrow')\n",
    "df.shape"
   ]
  },
  {
   "cell_type": "markdown",
   "id": "0e432d53-5832-4833-a722-89b95a85e640",
   "metadata": {},
   "source": [
    "### Topic Modelling"
   ]
  },
  {
   "cell_type": "code",
   "execution_count": 7,
   "id": "5f646e5e-5504-4c41-9bba-24eb092b5915",
   "metadata": {},
   "outputs": [
    {
     "data": {
      "text/html": [
       "<div>\n",
       "<style scoped>\n",
       "    .dataframe tbody tr th:only-of-type {\n",
       "        vertical-align: middle;\n",
       "    }\n",
       "\n",
       "    .dataframe tbody tr th {\n",
       "        vertical-align: top;\n",
       "    }\n",
       "\n",
       "    .dataframe thead th {\n",
       "        text-align: right;\n",
       "    }\n",
       "</style>\n",
       "<table border=\"1\" class=\"dataframe\">\n",
       "  <thead>\n",
       "    <tr style=\"text-align: right;\">\n",
       "      <th></th>\n",
       "      <th>date</th>\n",
       "      <th>title</th>\n",
       "      <th>text</th>\n",
       "      <th>year</th>\n",
       "      <th>month</th>\n",
       "      <th>day</th>\n",
       "      <th>dayofweek</th>\n",
       "      <th>clean_title</th>\n",
       "      <th>clean_text</th>\n",
       "      <th>clean_title_tokens</th>\n",
       "      <th>clean_text_tokens</th>\n",
       "    </tr>\n",
       "  </thead>\n",
       "  <tbody>\n",
       "    <tr>\n",
       "      <th>0</th>\n",
       "      <td>2021-03-18</td>\n",
       "      <td>Artificial intelligence improves parking effic...</td>\n",
       "      <td>\\n\\nArtificial intelligence improves parking e...</td>\n",
       "      <td>2021</td>\n",
       "      <td>3</td>\n",
       "      <td>18</td>\n",
       "      <td>3</td>\n",
       "      <td>Artificial intelligence improves parking effic...</td>\n",
       "      <td>Artificial intelligence improves parking effic...</td>\n",
       "      <td>[artificial, intelligence, improves, parking, ...</td>\n",
       "      <td>[artificial, intelligence, improves, parking, ...</td>\n",
       "    </tr>\n",
       "    <tr>\n",
       "      <th>1</th>\n",
       "      <td>2020-02-27</td>\n",
       "      <td>Children With Autism Saw Their Learning and So...</td>\n",
       "      <td>\\nChildren With Autism Saw Their Learning and ...</td>\n",
       "      <td>2020</td>\n",
       "      <td>2</td>\n",
       "      <td>27</td>\n",
       "      <td>3</td>\n",
       "      <td>Children With Autism Saw Their Learning and So...</td>\n",
       "      <td>Children With Autism Saw Their Learning and So...</td>\n",
       "      <td>[children, autism, saw, learning, social, skil...</td>\n",
       "      <td>[children, autism, saw, learning, social, skil...</td>\n",
       "    </tr>\n",
       "    <tr>\n",
       "      <th>2</th>\n",
       "      <td>2021-03-26</td>\n",
       "      <td>Forget ML, AI and Industry 4.0 – obsolescence ...</td>\n",
       "      <td>\\n\\nForget ML, AI and Industry 4.0 – obsolesce...</td>\n",
       "      <td>2021</td>\n",
       "      <td>3</td>\n",
       "      <td>26</td>\n",
       "      <td>4</td>\n",
       "      <td>Forget ML, AI and Industry 4.0 obsolescence sh...</td>\n",
       "      <td>Forget ML, AI and Industry 4.0 obsolescence sh...</td>\n",
       "      <td>[forget, ml, ai, industry, obsolescence, focus...</td>\n",
       "      <td>[forget, ml, ai, industry, obsolescence, focus...</td>\n",
       "    </tr>\n",
       "    <tr>\n",
       "      <th>3</th>\n",
       "      <td>2021-03-10</td>\n",
       "      <td>Strategy Analytics: 71% of Smartphones Sold Gl...</td>\n",
       "      <td>\\n\\nStrategy Analytics: 71% of Smartphones Sol...</td>\n",
       "      <td>2021</td>\n",
       "      <td>3</td>\n",
       "      <td>10</td>\n",
       "      <td>2</td>\n",
       "      <td>Strategy Analytics: 71 of Smartphones Sold Glo...</td>\n",
       "      <td>Strategy Analytics: 71 of Smartphones Sold Glo...</td>\n",
       "      <td>[strategy, analytics, smartphones, sold, globa...</td>\n",
       "      <td>[strategy, analytics, smartphones, sold, globa...</td>\n",
       "    </tr>\n",
       "    <tr>\n",
       "      <th>4</th>\n",
       "      <td>2020-10-20</td>\n",
       "      <td>Olympus to Support Endoscopic AI Diagnosis Edu...</td>\n",
       "      <td>\\n\\nOlympus to Support Endoscopic AI Diagnosis...</td>\n",
       "      <td>2020</td>\n",
       "      <td>10</td>\n",
       "      <td>20</td>\n",
       "      <td>1</td>\n",
       "      <td>Olympus to Support Endoscopic AI Diagnosis Edu...</td>\n",
       "      <td>Olympus to Support Endoscopic AI Diagnosis Edu...</td>\n",
       "      <td>[olympus, support, endoscopic, ai, diagnosis, ...</td>\n",
       "      <td>[olympus, support, endoscopic, ai, diagnosis, ...</td>\n",
       "    </tr>\n",
       "  </tbody>\n",
       "</table>\n",
       "</div>"
      ],
      "text/plain": [
       "        date                                              title  \\\n",
       "0 2021-03-18  Artificial intelligence improves parking effic...   \n",
       "1 2020-02-27  Children With Autism Saw Their Learning and So...   \n",
       "2 2021-03-26  Forget ML, AI and Industry 4.0 – obsolescence ...   \n",
       "3 2021-03-10  Strategy Analytics: 71% of Smartphones Sold Gl...   \n",
       "4 2020-10-20  Olympus to Support Endoscopic AI Diagnosis Edu...   \n",
       "\n",
       "                                                text  year  month  day  \\\n",
       "0  \\n\\nArtificial intelligence improves parking e...  2021      3   18   \n",
       "1  \\nChildren With Autism Saw Their Learning and ...  2020      2   27   \n",
       "2  \\n\\nForget ML, AI and Industry 4.0 – obsolesce...  2021      3   26   \n",
       "3  \\n\\nStrategy Analytics: 71% of Smartphones Sol...  2021      3   10   \n",
       "4  \\n\\nOlympus to Support Endoscopic AI Diagnosis...  2020     10   20   \n",
       "\n",
       "   dayofweek                                        clean_title  \\\n",
       "0          3  Artificial intelligence improves parking effic...   \n",
       "1          3  Children With Autism Saw Their Learning and So...   \n",
       "2          4  Forget ML, AI and Industry 4.0 obsolescence sh...   \n",
       "3          2  Strategy Analytics: 71 of Smartphones Sold Glo...   \n",
       "4          1  Olympus to Support Endoscopic AI Diagnosis Edu...   \n",
       "\n",
       "                                          clean_text  \\\n",
       "0  Artificial intelligence improves parking effic...   \n",
       "1  Children With Autism Saw Their Learning and So...   \n",
       "2  Forget ML, AI and Industry 4.0 obsolescence sh...   \n",
       "3  Strategy Analytics: 71 of Smartphones Sold Glo...   \n",
       "4  Olympus to Support Endoscopic AI Diagnosis Edu...   \n",
       "\n",
       "                                  clean_title_tokens  \\\n",
       "0  [artificial, intelligence, improves, parking, ...   \n",
       "1  [children, autism, saw, learning, social, skil...   \n",
       "2  [forget, ml, ai, industry, obsolescence, focus...   \n",
       "3  [strategy, analytics, smartphones, sold, globa...   \n",
       "4  [olympus, support, endoscopic, ai, diagnosis, ...   \n",
       "\n",
       "                                   clean_text_tokens  \n",
       "0  [artificial, intelligence, improves, parking, ...  \n",
       "1  [children, autism, saw, learning, social, skil...  \n",
       "2  [forget, ml, ai, industry, obsolescence, focus...  \n",
       "3  [strategy, analytics, smartphones, sold, globa...  \n",
       "4  [olympus, support, endoscopic, ai, diagnosis, ...  "
      ]
     },
     "execution_count": 7,
     "metadata": {},
     "output_type": "execute_result"
    }
   ],
   "source": [
    "df.head()"
   ]
  },
  {
   "cell_type": "code",
   "execution_count": 8,
   "id": "6f87234e-384d-499e-b949-6dfe9c90ab94",
   "metadata": {},
   "outputs": [],
   "source": [
    "df = df.drop([\"text\", \"title\"], axis=1)"
   ]
  },
  {
   "cell_type": "code",
   "execution_count": 12,
   "id": "dfef8ae5-1bd6-499b-8cbc-65a2b1af44ad",
   "metadata": {},
   "outputs": [],
   "source": [
    "# df[\"clean_title_tokens\"] = df[\"clean_title_tokens\"].str.replace('\\x00', '').parallel_apply(eval)\n",
    "# df[\"clean_text_tokens\"] = df[\"clean_text_tokens\"].parallel_apply(eval)"
   ]
  },
  {
   "cell_type": "code",
   "execution_count": 13,
   "id": "d7b06b45-c93f-4d92-a49e-eb9eb196b77b",
   "metadata": {},
   "outputs": [],
   "source": [
    "# Creating a term dictionary and document term matrix\n",
    "dictionary_n_title = corpora.Dictionary(df[\"clean_title_tokens\"])\n",
    "dictionary_n_text = corpora.Dictionary(df[\"clean_text_tokens\"])"
   ]
  },
  {
   "cell_type": "code",
   "execution_count": 14,
   "id": "efb97296-03e5-46ca-9613-2ec89f901e95",
   "metadata": {},
   "outputs": [],
   "source": [
    "doc_term_matrix_n_title = [dictionary_n_title.doc2bow(doc) for doc in df[\"clean_title_tokens\"]]\n",
    "doc_term_matrix_n_text = [dictionary_n_text.doc2bow(doc) for doc in df[\"clean_text_tokens\"]]"
   ]
  },
  {
   "cell_type": "code",
   "execution_count": 15,
   "id": "bf8847d8-aaf0-4d29-8091-d9930860e4dd",
   "metadata": {},
   "outputs": [],
   "source": [
    "# Creating a Latent Dirichlet Allocation(LDA) Model for topic modelling\n",
    "Lda = gensim.models.ldamodel.LdaModel"
   ]
  },
  {
   "cell_type": "code",
   "execution_count": 16,
   "id": "1dedd5eb-b710-4496-8ca3-f25a6f165197",
   "metadata": {},
   "outputs": [
    {
     "name": "stdout",
     "output_type": "stream",
     "text": [
      "Using 64 workers\n"
     ]
    }
   ],
   "source": [
    "import multiprocessing\n",
    "num_processors = multiprocessing.cpu_count()\n",
    "num_processors\n",
    "\n",
    "workers = num_processors\n",
    "\n",
    "print(f'Using {workers} workers')"
   ]
  },
  {
   "cell_type": "code",
   "execution_count": 17,
   "id": "d361417b-7e63-4ff9-a39c-ce2a31bd4f47",
   "metadata": {},
   "outputs": [],
   "source": [
    "def initial_5_topic_mult(doc_term_matrix,dictionary):\n",
    "    lda_model = LdaMulticore(corpus=doc_term_matrix,\n",
    "                   id2word=dictionary,\n",
    "                   num_topics=10,\n",
    "                   random_state=100,\n",
    "                   passes=10,\n",
    "                   eta='auto',\n",
    "                   workers=workers)\n",
    "\n",
    "    for i in lda_model.print_topics(num_words=7):\n",
    "        print(i)\n",
    "    doc_lda = lda_model[doc_term_matrix]"
   ]
  },
  {
   "cell_type": "code",
   "execution_count": 18,
   "id": "c4394594-072e-4d45-a741-854b801e06b0",
   "metadata": {},
   "outputs": [
    {
     "name": "stdout",
     "output_type": "stream",
     "text": [
      "(0, '0.059*\"ai\" + 0.019*\"news\" + 0.019*\"chatgpt\" + 0.014*\"google\" + 0.013*\"bard\" + 0.010*\"global\" + 0.007*\"data\"')\n",
      "(1, '0.090*\"ai\" + 0.013*\"news\" + 0.010*\"new\" + 0.009*\"artificial\" + 0.009*\"intelligence\" + 0.006*\"microsoft\" + 0.005*\"business\"')\n",
      "(2, '0.071*\"ai\" + 0.018*\"data\" + 0.015*\"news\" + 0.012*\"chatgpt\" + 0.009*\"new\" + 0.008*\"platform\" + 0.007*\"science\"')\n",
      "(3, '0.060*\"intelligence\" + 0.059*\"artificial\" + 0.046*\"ai\" + 0.009*\"tech\" + 0.008*\"using\" + 0.007*\"chatgpt\" + 0.007*\"news\"')\n",
      "(4, '0.058*\"ai\" + 0.021*\"data\" + 0.016*\"science\" + 0.012*\"first\" + 0.011*\"technology\" + 0.011*\"chatgpt\" + 0.010*\"platform\"')\n",
      "(5, '0.062*\"market\" + 0.039*\"artificial\" + 0.039*\"intelligence\" + 0.033*\"ai\" + 0.022*\"global\" + 0.017*\"growth\" + 0.017*\"analysis\"')\n",
      "(6, '0.096*\"ai\" + 0.009*\"news\" + 0.007*\"intelligence\" + 0.006*\"artificial\" + 0.006*\"health\" + 0.005*\"new\" + 0.005*\"help\"')\n",
      "(7, '0.084*\"ai\" + 0.020*\"chatgpt\" + 0.016*\"new\" + 0.010*\"news\" + 0.006*\"technology\" + 0.005*\"microsoft\" + 0.005*\"intelligence\"')\n",
      "(8, '0.054*\"ai\" + 0.022*\"intelligence\" + 0.021*\"artificial\" + 0.011*\"data\" + 0.011*\"new\" + 0.010*\"chatgpt\" + 0.008*\"technology\"')\n",
      "(9, '0.063*\"ai\" + 0.031*\"learning\" + 0.029*\"machine\" + 0.012*\"new\" + 0.009*\"launches\" + 0.008*\"news\" + 0.007*\"platform\"')\n",
      "CPU times: user 25.9 s, sys: 11.7 s, total: 37.7 s\n",
      "Wall time: 34.5 s\n"
     ]
    }
   ],
   "source": [
    "%time initial_10_topic_mult(doc_term_matrix_n_title, dictionary_n_title)"
   ]
  },
  {
   "cell_type": "code",
   "execution_count": 19,
   "id": "c83ebda7-39b1-4e43-b280-08f35ffd210d",
   "metadata": {},
   "outputs": [
    {
     "name": "stdout",
     "output_type": "stream",
     "text": [
      "(0, '0.010*\"ai\" + 0.008*\"machine\" + 0.008*\"learning\" + 0.008*\"republic\" + 0.006*\"new\" + 0.006*\"market\" + 0.005*\"news\"')\n",
      "(1, '0.010*\"ai\" + 0.007*\"news\" + 0.007*\"market\" + 0.006*\"industry\" + 0.006*\"public\" + 0.005*\"business\" + 0.005*\"technology\"')\n",
      "(2, '0.013*\"data\" + 0.012*\"ai\" + 0.007*\"business\" + 0.006*\"customer\" + 0.006*\"news\" + 0.005*\"new\" + 0.005*\"company\"')\n",
      "(3, '0.011*\"ai\" + 0.007*\"company\" + 0.006*\"stock\" + 0.005*\"ha\" + 0.004*\"new\" + 0.004*\"market\" + 0.004*\"news\"')\n",
      "(4, '0.012*\"ago\" + 0.008*\"hour\" + 0.007*\"ai\" + 0.006*\"new\" + 0.005*\"news\" + 0.005*\"said\" + 0.005*\"day\"')\n",
      "(5, '0.008*\"ai\" + 0.006*\"new\" + 0.005*\"intelligence\" + 0.005*\"ha\" + 0.005*\"artificial\" + 0.004*\"news\" + 0.004*\"data\"')\n",
      "(6, '0.012*\"ai\" + 0.007*\"news\" + 0.006*\"data\" + 0.005*\"paid\" + 0.005*\"technology\" + 0.004*\"business\" + 0.004*\"program\"')\n",
      "(7, '0.013*\"ai\" + 0.007*\"gray\" + 0.006*\"group\" + 0.006*\"technology\" + 0.006*\"media\" + 0.005*\"health\" + 0.005*\"patient\"')\n",
      "(8, '0.037*\"market\" + 0.017*\"ai\" + 0.012*\"intelligence\" + 0.011*\"report\" + 0.010*\"artificial\" + 0.010*\"global\" + 0.009*\"analysis\"')\n",
      "(9, '0.018*\"ai\" + 0.006*\"new\" + 0.006*\"ha\" + 0.005*\"news\" + 0.004*\"chatgpt\" + 0.004*\"technology\" + 0.004*\"wa\"')\n",
      "CPU times: user 13min 42s, sys: 7min 35s, total: 21min 18s\n",
      "Wall time: 14min 20s\n"
     ]
    }
   ],
   "source": [
    "%time initial_10_topic_mult(doc_term_matrix_n_text, dictionary_n_text)"
   ]
  },
  {
   "cell_type": "code",
   "execution_count": null,
   "id": "7210a065-3df5-4453-848b-0359408ec504",
   "metadata": {},
   "outputs": [],
   "source": []
  }
 ],
 "metadata": {
  "environment": {
   "kernel": "python3",
   "name": "common-cpu.m108",
   "type": "gcloud",
   "uri": "gcr.io/deeplearning-platform-release/base-cpu:m108"
  },
  "kernelspec": {
   "display_name": "Python 3 (ipykernel)",
   "language": "python",
   "name": "python3"
  },
  "language_info": {
   "codemirror_mode": {
    "name": "ipython",
    "version": 3
   },
   "file_extension": ".py",
   "mimetype": "text/x-python",
   "name": "python",
   "nbconvert_exporter": "python",
   "pygments_lexer": "ipython3",
   "version": "3.10.9"
  }
 },
 "nbformat": 4,
 "nbformat_minor": 5
}
