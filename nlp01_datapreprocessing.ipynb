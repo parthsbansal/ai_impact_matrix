{
 "cells": [
  {
   "cell_type": "markdown",
   "metadata": {},
   "source": [
    "## NLP Class Final Project Read Data"
   ]
  },
  {
   "cell_type": "code",
   "execution_count": 1,
   "metadata": {},
   "outputs": [],
   "source": [
    "import pandas as pd\n",
    "import re \n",
    "import nltk as nltk\n",
    "import numpy as np\n",
    "import matplotlib.pyplot as plt\n",
    "import seaborn as sns\n",
    "import spacy\n",
    "import time\n",
    "import math\n",
    "import string\n",
    "import gensim\n",
    "import pyLDAvis\n",
    "import seaborn as sns \n",
    "import matplotlib.pyplot as plt\n",
    "#import pyLDAvis.gensim\n",
    "#import pyLDAvis.gensim_models as gensimvis\n",
    "\n",
    "from textblob import TextBlob\n",
    "from nltk.corpus import stopwords\n",
    "from nltk.stem.wordnet import WordNetLemmatizer\n",
    "from gensim import corpora, models\n",
    "from gensim.models.ldamulticore import LdaMulticore\n",
    "\n",
    "#pyLDAvis.enable_notebook()\n",
    "#nlp = spacy.load(\"en_core_web_sm\")"
   ]
  },
  {
   "cell_type": "code",
   "execution_count": 2,
   "metadata": {},
   "outputs": [
    {
     "name": "stdout",
     "output_type": "stream",
     "text": [
      "INFO: Pandarallel will run on 8 workers.\n",
      "INFO: Pandarallel will use standard multiprocessing data transfer (pipe) to transfer data between the main process and workers.\n"
     ]
    }
   ],
   "source": [
    "import pandarallel\n",
    "import multiprocessing\n",
    "from pandarallel import pandarallel\n",
    "\n",
    "num_processors = multiprocessing.cpu_count()\n",
    "\n",
    "pandarallel.initialize(nb_workers=num_processors, use_memory_fs=False)"
   ]
  },
  {
   "cell_type": "code",
   "execution_count": 3,
   "metadata": {},
   "outputs": [
    {
     "name": "stdout",
     "output_type": "stream",
     "text": [
      "CPU times: user 1.76 s, sys: 2.1 s, total: 3.85 s\n",
      "Wall time: 5.01 s\n"
     ]
    },
    {
     "data": {
      "text/plain": [
       "(200332, 5)"
      ]
     },
     "execution_count": 3,
     "metadata": {},
     "output_type": "execute_result"
    }
   ],
   "source": [
    "%%time\n",
    "\n",
    "df_news_final_project = pd.read_parquet('/Users/parthbansal/Downloads/news_final_project.parquet', engine='pyarrow')\n",
    "df_news_final_project.shape"
   ]
  },
  {
   "cell_type": "code",
   "execution_count": 4,
   "metadata": {},
   "outputs": [
    {
     "data": {
      "text/html": [
       "<div>\n",
       "<style scoped>\n",
       "    .dataframe tbody tr th:only-of-type {\n",
       "        vertical-align: middle;\n",
       "    }\n",
       "\n",
       "    .dataframe tbody tr th {\n",
       "        vertical-align: top;\n",
       "    }\n",
       "\n",
       "    .dataframe thead th {\n",
       "        text-align: right;\n",
       "    }\n",
       "</style>\n",
       "<table border=\"1\" class=\"dataframe\">\n",
       "  <thead>\n",
       "    <tr style=\"text-align: right;\">\n",
       "      <th></th>\n",
       "      <th>url</th>\n",
       "      <th>date</th>\n",
       "      <th>language</th>\n",
       "      <th>title</th>\n",
       "      <th>text</th>\n",
       "    </tr>\n",
       "  </thead>\n",
       "  <tbody>\n",
       "    <tr>\n",
       "      <th>0</th>\n",
       "      <td>http://en.people.cn/n3/2021/0318/c90000-983012...</td>\n",
       "      <td>2021-03-18</td>\n",
       "      <td>en</td>\n",
       "      <td>Artificial intelligence improves parking effic...</td>\n",
       "      <td>\\n\\nArtificial intelligence improves parking e...</td>\n",
       "    </tr>\n",
       "    <tr>\n",
       "      <th>1</th>\n",
       "      <td>http://newsparliament.com/2020/02/27/children-...</td>\n",
       "      <td>2020-02-27</td>\n",
       "      <td>en</td>\n",
       "      <td>Children With Autism Saw Their Learning and So...</td>\n",
       "      <td>\\nChildren With Autism Saw Their Learning and ...</td>\n",
       "    </tr>\n",
       "    <tr>\n",
       "      <th>2</th>\n",
       "      <td>http://www.dataweek.co.za/12835r</td>\n",
       "      <td>2021-03-26</td>\n",
       "      <td>en</td>\n",
       "      <td>Forget ML, AI and Industry 4.0 – obsolescence ...</td>\n",
       "      <td>\\n\\nForget ML, AI and Industry 4.0 – obsolesce...</td>\n",
       "    </tr>\n",
       "    <tr>\n",
       "      <th>3</th>\n",
       "      <td>http://www.homeoffice.consumerelectronicsnet.c...</td>\n",
       "      <td>2021-03-10</td>\n",
       "      <td>en</td>\n",
       "      <td>Strategy Analytics: 71% of Smartphones Sold Gl...</td>\n",
       "      <td>\\n\\nStrategy Analytics: 71% of Smartphones Sol...</td>\n",
       "    </tr>\n",
       "    <tr>\n",
       "      <th>4</th>\n",
       "      <td>http://www.itbusinessnet.com/2020/10/olympus-t...</td>\n",
       "      <td>2020-10-20</td>\n",
       "      <td>en</td>\n",
       "      <td>Olympus to Support Endoscopic AI Diagnosis Edu...</td>\n",
       "      <td>\\n\\nOlympus to Support Endoscopic AI Diagnosis...</td>\n",
       "    </tr>\n",
       "  </tbody>\n",
       "</table>\n",
       "</div>"
      ],
      "text/plain": [
       "                                                 url        date language   \n",
       "0  http://en.people.cn/n3/2021/0318/c90000-983012...  2021-03-18       en  \\\n",
       "1  http://newsparliament.com/2020/02/27/children-...  2020-02-27       en   \n",
       "2                   http://www.dataweek.co.za/12835r  2021-03-26       en   \n",
       "3  http://www.homeoffice.consumerelectronicsnet.c...  2021-03-10       en   \n",
       "4  http://www.itbusinessnet.com/2020/10/olympus-t...  2020-10-20       en   \n",
       "\n",
       "                                               title   \n",
       "0  Artificial intelligence improves parking effic...  \\\n",
       "1  Children With Autism Saw Their Learning and So...   \n",
       "2  Forget ML, AI and Industry 4.0 – obsolescence ...   \n",
       "3  Strategy Analytics: 71% of Smartphones Sold Gl...   \n",
       "4  Olympus to Support Endoscopic AI Diagnosis Edu...   \n",
       "\n",
       "                                                text  \n",
       "0  \\n\\nArtificial intelligence improves parking e...  \n",
       "1  \\nChildren With Autism Saw Their Learning and ...  \n",
       "2  \\n\\nForget ML, AI and Industry 4.0 – obsolesce...  \n",
       "3  \\n\\nStrategy Analytics: 71% of Smartphones Sol...  \n",
       "4  \\n\\nOlympus to Support Endoscopic AI Diagnosis...  "
      ]
     },
     "execution_count": 4,
     "metadata": {},
     "output_type": "execute_result"
    }
   ],
   "source": [
    "df_news_final_project.head()"
   ]
  },
  {
   "cell_type": "markdown",
   "metadata": {},
   "source": [
    "### Data Preprocessing (Cleaning-up the noise, by eliminating newlines, tabs, remnants of web crawls, and other irrelevant text)"
   ]
  },
  {
   "cell_type": "code",
   "execution_count": 5,
   "metadata": {},
   "outputs": [
    {
     "data": {
      "text/plain": [
       "array(['en'], dtype=object)"
      ]
     },
     "execution_count": 5,
     "metadata": {},
     "output_type": "execute_result"
    }
   ],
   "source": [
    "# The articles are all in English \n",
    "df_news_final_project[\"language\"].unique()"
   ]
  },
  {
   "cell_type": "code",
   "execution_count": 6,
   "metadata": {},
   "outputs": [],
   "source": [
    "# Dropping redudant columns \n",
    "df = df_news_final_project[[\"date\",\"title\",\"text\"]]"
   ]
  },
  {
   "cell_type": "code",
   "execution_count": 7,
   "metadata": {},
   "outputs": [
    {
     "name": "stderr",
     "output_type": "stream",
     "text": [
      "/var/folders/0y/n_xgd2n97837m629ymdq84rr0000gn/T/ipykernel_2804/2143503222.py:2: SettingWithCopyWarning: \n",
      "A value is trying to be set on a copy of a slice from a DataFrame.\n",
      "Try using .loc[row_indexer,col_indexer] = value instead\n",
      "\n",
      "See the caveats in the documentation: https://pandas.pydata.org/pandas-docs/stable/user_guide/indexing.html#returning-a-view-versus-a-copy\n",
      "  df[\"date\"] = pd.to_datetime(df[\"date\"])\n",
      "/var/folders/0y/n_xgd2n97837m629ymdq84rr0000gn/T/ipykernel_2804/2143503222.py:3: SettingWithCopyWarning: \n",
      "A value is trying to be set on a copy of a slice from a DataFrame.\n",
      "Try using .loc[row_indexer,col_indexer] = value instead\n",
      "\n",
      "See the caveats in the documentation: https://pandas.pydata.org/pandas-docs/stable/user_guide/indexing.html#returning-a-view-versus-a-copy\n",
      "  df[\"year\"] = df[\"date\"].dt.year\n"
     ]
    }
   ],
   "source": [
    "# Converting to datetime format\n",
    "df[\"date\"] = pd.to_datetime(df[\"date\"])\n",
    "df[\"year\"] = df[\"date\"].dt.year\n",
    "df[\"month\"] = df[\"date\"].dt.month\n",
    "df[\"day\"] = df[\"date\"].dt.day\n",
    "df[\"dayofweek\"] = df[\"date\"].dt.dayofweek"
   ]
  },
  {
   "cell_type": "code",
   "execution_count": 8,
   "metadata": {},
   "outputs": [
    {
     "name": "stdout",
     "output_type": "stream",
     "text": [
      "Minimum date: 2020-01-01 00:00:00\n"
     ]
    }
   ],
   "source": [
    "print('Minimum date:', df['date'].min())"
   ]
  },
  {
   "cell_type": "code",
   "execution_count": 9,
   "metadata": {},
   "outputs": [
    {
     "name": "stdout",
     "output_type": "stream",
     "text": [
      "Maximum date: 2023-04-28 00:00:00\n"
     ]
    }
   ],
   "source": [
    "print('Maximum date:', df['date'].max())"
   ]
  },
  {
   "cell_type": "code",
   "execution_count": 10,
   "metadata": {},
   "outputs": [],
   "source": [
    "def clean_text(text):\n",
    "    # Removing unimportant characters (newlines,tabs)\n",
    "    clean = re.sub(r'\\n+|\\t+|\\s+$|^\\s+', '', text) \n",
    "    \n",
    "    # Removing unimportant characters\n",
    "    clean = re.sub(r'[^a-zA-Z0-9 @ . , : - _ ]', '', clean) \n",
    "    \n",
    "    # Remove URLs and email addresses\n",
    "    clean = re.sub(r'http\\S+|www.\\S+|\\S+@\\S+', '', clean) \n",
    "    \n",
    "    # Remove non-printable characters\n",
    "    clean = ''.join(filter(lambda x: x.isprintable(), clean)) \n",
    "    \n",
    "    # Remove non-ASCII characters\n",
    "    clean = ''.join(filter(lambda x: ord(x) < 128, clean)) \n",
    "    \n",
    "    # Replace multiple spaces with a single space\n",
    "    clean = re.sub(r'\\s+', ' ', clean)\n",
    "    \n",
    "    return clean"
   ]
  },
  {
   "cell_type": "code",
   "execution_count": 11,
   "metadata": {},
   "outputs": [
    {
     "name": "stdout",
     "output_type": "stream",
     "text": [
      "Requirement already satisfied: ipywidgets in /Users/parthbansal/anaconda3/lib/python3.10/site-packages (8.0.6)\n",
      "Requirement already satisfied: traitlets>=4.3.1 in /Users/parthbansal/anaconda3/lib/python3.10/site-packages (from ipywidgets) (5.7.1)\n",
      "Requirement already satisfied: jupyterlab-widgets~=3.0.7 in /Users/parthbansal/anaconda3/lib/python3.10/site-packages (from ipywidgets) (3.0.7)\n",
      "Requirement already satisfied: ipykernel>=4.5.1 in /Users/parthbansal/anaconda3/lib/python3.10/site-packages (from ipywidgets) (6.19.2)\n",
      "Requirement already satisfied: ipython>=6.1.0 in /Users/parthbansal/anaconda3/lib/python3.10/site-packages (from ipywidgets) (8.10.0)\n",
      "Requirement already satisfied: widgetsnbextension~=4.0.7 in /Users/parthbansal/anaconda3/lib/python3.10/site-packages (from ipywidgets) (4.0.7)\n",
      "Requirement already satisfied: appnope in /Users/parthbansal/anaconda3/lib/python3.10/site-packages (from ipykernel>=4.5.1->ipywidgets) (0.1.2)\n",
      "Requirement already satisfied: packaging in /Users/parthbansal/anaconda3/lib/python3.10/site-packages (from ipykernel>=4.5.1->ipywidgets) (22.0)\n",
      "Requirement already satisfied: tornado>=6.1 in /Users/parthbansal/anaconda3/lib/python3.10/site-packages (from ipykernel>=4.5.1->ipywidgets) (6.1)\n",
      "Requirement already satisfied: matplotlib-inline>=0.1 in /Users/parthbansal/anaconda3/lib/python3.10/site-packages (from ipykernel>=4.5.1->ipywidgets) (0.1.6)\n",
      "Requirement already satisfied: psutil in /Users/parthbansal/anaconda3/lib/python3.10/site-packages (from ipykernel>=4.5.1->ipywidgets) (5.9.0)\n",
      "Requirement already satisfied: pyzmq>=17 in /Users/parthbansal/anaconda3/lib/python3.10/site-packages (from ipykernel>=4.5.1->ipywidgets) (23.2.0)\n",
      "Requirement already satisfied: debugpy>=1.0 in /Users/parthbansal/anaconda3/lib/python3.10/site-packages (from ipykernel>=4.5.1->ipywidgets) (1.5.1)\n",
      "Requirement already satisfied: jupyter-client>=6.1.12 in /Users/parthbansal/anaconda3/lib/python3.10/site-packages (from ipykernel>=4.5.1->ipywidgets) (7.3.4)\n",
      "Requirement already satisfied: comm>=0.1.1 in /Users/parthbansal/anaconda3/lib/python3.10/site-packages (from ipykernel>=4.5.1->ipywidgets) (0.1.2)\n",
      "Requirement already satisfied: nest-asyncio in /Users/parthbansal/anaconda3/lib/python3.10/site-packages (from ipykernel>=4.5.1->ipywidgets) (1.5.6)\n",
      "Requirement already satisfied: pexpect>4.3 in /Users/parthbansal/anaconda3/lib/python3.10/site-packages (from ipython>=6.1.0->ipywidgets) (4.8.0)\n",
      "Requirement already satisfied: prompt-toolkit<3.1.0,>=3.0.30 in /Users/parthbansal/anaconda3/lib/python3.10/site-packages (from ipython>=6.1.0->ipywidgets) (3.0.36)\n",
      "Requirement already satisfied: jedi>=0.16 in /Users/parthbansal/anaconda3/lib/python3.10/site-packages (from ipython>=6.1.0->ipywidgets) (0.18.1)\n",
      "Requirement already satisfied: pygments>=2.4.0 in /Users/parthbansal/anaconda3/lib/python3.10/site-packages (from ipython>=6.1.0->ipywidgets) (2.11.2)\n",
      "Requirement already satisfied: backcall in /Users/parthbansal/anaconda3/lib/python3.10/site-packages (from ipython>=6.1.0->ipywidgets) (0.2.0)\n",
      "Requirement already satisfied: decorator in /Users/parthbansal/anaconda3/lib/python3.10/site-packages (from ipython>=6.1.0->ipywidgets) (5.1.1)\n",
      "Requirement already satisfied: stack-data in /Users/parthbansal/anaconda3/lib/python3.10/site-packages (from ipython>=6.1.0->ipywidgets) (0.2.0)\n",
      "Requirement already satisfied: pickleshare in /Users/parthbansal/anaconda3/lib/python3.10/site-packages (from ipython>=6.1.0->ipywidgets) (0.7.5)\n",
      "Requirement already satisfied: parso<0.9.0,>=0.8.0 in /Users/parthbansal/anaconda3/lib/python3.10/site-packages (from jedi>=0.16->ipython>=6.1.0->ipywidgets) (0.8.3)\n",
      "Requirement already satisfied: jupyter-core>=4.9.2 in /Users/parthbansal/anaconda3/lib/python3.10/site-packages (from jupyter-client>=6.1.12->ipykernel>=4.5.1->ipywidgets) (5.2.0)\n",
      "Requirement already satisfied: entrypoints in /Users/parthbansal/anaconda3/lib/python3.10/site-packages (from jupyter-client>=6.1.12->ipykernel>=4.5.1->ipywidgets) (0.4)\n",
      "Requirement already satisfied: python-dateutil>=2.8.2 in /Users/parthbansal/anaconda3/lib/python3.10/site-packages (from jupyter-client>=6.1.12->ipykernel>=4.5.1->ipywidgets) (2.8.2)\n",
      "Requirement already satisfied: ptyprocess>=0.5 in /Users/parthbansal/anaconda3/lib/python3.10/site-packages (from pexpect>4.3->ipython>=6.1.0->ipywidgets) (0.7.0)\n",
      "Requirement already satisfied: wcwidth in /Users/parthbansal/anaconda3/lib/python3.10/site-packages (from prompt-toolkit<3.1.0,>=3.0.30->ipython>=6.1.0->ipywidgets) (0.2.5)\n",
      "Requirement already satisfied: pure-eval in /Users/parthbansal/anaconda3/lib/python3.10/site-packages (from stack-data->ipython>=6.1.0->ipywidgets) (0.2.2)\n",
      "Requirement already satisfied: asttokens in /Users/parthbansal/anaconda3/lib/python3.10/site-packages (from stack-data->ipython>=6.1.0->ipywidgets) (2.0.5)\n",
      "Requirement already satisfied: executing in /Users/parthbansal/anaconda3/lib/python3.10/site-packages (from stack-data->ipython>=6.1.0->ipywidgets) (0.8.3)\n",
      "Requirement already satisfied: platformdirs>=2.5 in /Users/parthbansal/anaconda3/lib/python3.10/site-packages (from jupyter-core>=4.9.2->jupyter-client>=6.1.12->ipykernel>=4.5.1->ipywidgets) (2.5.2)\n",
      "Requirement already satisfied: six>=1.5 in /Users/parthbansal/anaconda3/lib/python3.10/site-packages (from python-dateutil>=2.8.2->jupyter-client>=6.1.12->ipykernel>=4.5.1->ipywidgets) (1.16.0)\n"
     ]
    }
   ],
   "source": [
    "!pip install ipywidgets"
   ]
  },
  {
   "cell_type": "code",
   "execution_count": 12,
   "metadata": {},
   "outputs": [
    {
     "name": "stdout",
     "output_type": "stream",
     "text": [
      "CPU times: user 54.2 ms, sys: 70.3 ms, total: 125 ms\n",
      "Wall time: 950 ms\n"
     ]
    }
   ],
   "source": [
    "%time df['clean_title'] = df['title'].parallel_apply(clean_text)"
   ]
  },
  {
   "cell_type": "code",
   "execution_count": 13,
   "metadata": {},
   "outputs": [
    {
     "name": "stdout",
     "output_type": "stream",
     "text": [
      "CPU times: user 1.82 s, sys: 6.53 s, total: 8.35 s\n",
      "Wall time: 1min 16s\n"
     ]
    }
   ],
   "source": [
    "%time df['clean_text'] = df['text'].parallel_apply(clean_text)"
   ]
  },
  {
   "cell_type": "code",
   "execution_count": 14,
   "metadata": {},
   "outputs": [
    {
     "data": {
      "text/html": [
       "<div>\n",
       "<style scoped>\n",
       "    .dataframe tbody tr th:only-of-type {\n",
       "        vertical-align: middle;\n",
       "    }\n",
       "\n",
       "    .dataframe tbody tr th {\n",
       "        vertical-align: top;\n",
       "    }\n",
       "\n",
       "    .dataframe thead th {\n",
       "        text-align: right;\n",
       "    }\n",
       "</style>\n",
       "<table border=\"1\" class=\"dataframe\">\n",
       "  <thead>\n",
       "    <tr style=\"text-align: right;\">\n",
       "      <th></th>\n",
       "      <th>date</th>\n",
       "      <th>title</th>\n",
       "      <th>text</th>\n",
       "      <th>year</th>\n",
       "      <th>month</th>\n",
       "      <th>day</th>\n",
       "      <th>dayofweek</th>\n",
       "      <th>clean_title</th>\n",
       "      <th>clean_text</th>\n",
       "    </tr>\n",
       "  </thead>\n",
       "  <tbody>\n",
       "    <tr>\n",
       "      <th>178951</th>\n",
       "      <td>2022-11-30</td>\n",
       "      <td>Ensuring Clinical AI Safety at Scale: deepc, C...</td>\n",
       "      <td>Ensuring Clinical AI Safety at Scale: deepc, C...</td>\n",
       "      <td>2022</td>\n",
       "      <td>11</td>\n",
       "      <td>30</td>\n",
       "      <td>2</td>\n",
       "      <td>Ensuring Clinical AI Safety at Scale: deepc, C...</td>\n",
       "      <td>Ensuring Clinical AI Safety at Scale: deepc, C...</td>\n",
       "    </tr>\n",
       "    <tr>\n",
       "      <th>135057</th>\n",
       "      <td>2023-02-07</td>\n",
       "      <td>Google's Bard isn't Shakespeare, but instead a...</td>\n",
       "      <td>\\n\\nGoogle's Bard isn't Shakespeare, but inste...</td>\n",
       "      <td>2023</td>\n",
       "      <td>2</td>\n",
       "      <td>7</td>\n",
       "      <td>1</td>\n",
       "      <td>Googles Bard isnt Shakespeare, but instead an ...</td>\n",
       "      <td>Googles Bard isnt Shakespeare, but instead an ...</td>\n",
       "    </tr>\n",
       "    <tr>\n",
       "      <th>152219</th>\n",
       "      <td>2023-02-02</td>\n",
       "      <td>We asked the new AI to do some simple rocket s...</td>\n",
       "      <td>\\nWe asked the new AI to do some simple rocket...</td>\n",
       "      <td>2023</td>\n",
       "      <td>2</td>\n",
       "      <td>2</td>\n",
       "      <td>3</td>\n",
       "      <td>We asked the new AI to do some simple rocket s...</td>\n",
       "      <td>We asked the new AI to do some simple rocket s...</td>\n",
       "    </tr>\n",
       "    <tr>\n",
       "      <th>174411</th>\n",
       "      <td>2022-06-28</td>\n",
       "      <td>Snackable AI - Share powerful moments from yo...</td>\n",
       "      <td>Snackable AI - Share powerful moments from yo...</td>\n",
       "      <td>2022</td>\n",
       "      <td>6</td>\n",
       "      <td>28</td>\n",
       "      <td>1</td>\n",
       "      <td>Snackable AI Share powerful moments from your ...</td>\n",
       "      <td>Snackable AI Share powerful moments from your ...</td>\n",
       "    </tr>\n",
       "    <tr>\n",
       "      <th>179106</th>\n",
       "      <td>2022-09-09</td>\n",
       "      <td>Codoxo Leads Payment Integrity AI Discussio...</td>\n",
       "      <td>\\n  Codoxo Leads Payment Integrity AI Discussi...</td>\n",
       "      <td>2022</td>\n",
       "      <td>9</td>\n",
       "      <td>9</td>\n",
       "      <td>4</td>\n",
       "      <td>Codoxo Leads Payment Integrity AI Discussion a...</td>\n",
       "      <td>Codoxo Leads Payment Integrity AI Discussion ...</td>\n",
       "    </tr>\n",
       "  </tbody>\n",
       "</table>\n",
       "</div>"
      ],
      "text/plain": [
       "             date                                              title   \n",
       "178951 2022-11-30  Ensuring Clinical AI Safety at Scale: deepc, C...  \\\n",
       "135057 2023-02-07  Google's Bard isn't Shakespeare, but instead a...   \n",
       "152219 2023-02-02  We asked the new AI to do some simple rocket s...   \n",
       "174411 2022-06-28   Snackable AI - Share powerful moments from yo...   \n",
       "179106 2022-09-09     Codoxo Leads Payment Integrity AI Discussio...   \n",
       "\n",
       "                                                     text  year  month  day   \n",
       "178951  Ensuring Clinical AI Safety at Scale: deepc, C...  2022     11   30  \\\n",
       "135057  \\n\\nGoogle's Bard isn't Shakespeare, but inste...  2023      2    7   \n",
       "152219  \\nWe asked the new AI to do some simple rocket...  2023      2    2   \n",
       "174411   Snackable AI - Share powerful moments from yo...  2022      6   28   \n",
       "179106  \\n  Codoxo Leads Payment Integrity AI Discussi...  2022      9    9   \n",
       "\n",
       "        dayofweek                                        clean_title   \n",
       "178951          2  Ensuring Clinical AI Safety at Scale: deepc, C...  \\\n",
       "135057          1  Googles Bard isnt Shakespeare, but instead an ...   \n",
       "152219          3  We asked the new AI to do some simple rocket s...   \n",
       "174411          1  Snackable AI Share powerful moments from your ...   \n",
       "179106          4  Codoxo Leads Payment Integrity AI Discussion a...   \n",
       "\n",
       "                                               clean_text  \n",
       "178951  Ensuring Clinical AI Safety at Scale: deepc, C...  \n",
       "135057  Googles Bard isnt Shakespeare, but instead an ...  \n",
       "152219  We asked the new AI to do some simple rocket s...  \n",
       "174411  Snackable AI Share powerful moments from your ...  \n",
       "179106   Codoxo Leads Payment Integrity AI Discussion ...  "
      ]
     },
     "execution_count": 14,
     "metadata": {},
     "output_type": "execute_result"
    }
   ],
   "source": [
    "df.sample(5, random_state = 42)"
   ]
  },
  {
   "cell_type": "markdown",
   "metadata": {},
   "source": [
    "### Discarding irrelevant articles"
   ]
  },
  {
   "cell_type": "code",
   "execution_count": 15,
   "metadata": {},
   "outputs": [],
   "source": [
    "df[\"title_length\"] = df[\"clean_title\"].parallel_apply(lambda x : len(x.split()))"
   ]
  },
  {
   "cell_type": "code",
   "execution_count": 16,
   "metadata": {},
   "outputs": [],
   "source": [
    "df[\"text_length\"] = df[\"clean_text\"].parallel_apply(lambda x : len(x.split()))"
   ]
  },
  {
   "cell_type": "code",
   "execution_count": 17,
   "metadata": {},
   "outputs": [
    {
     "data": {
      "text/plain": [
       "{'whiskers': [<matplotlib.lines.Line2D at 0x2a1264fd0>,\n",
       "  <matplotlib.lines.Line2D at 0x2a1265270>],\n",
       " 'caps': [<matplotlib.lines.Line2D at 0x2a1265510>,\n",
       "  <matplotlib.lines.Line2D at 0x2a12657b0>],\n",
       " 'boxes': [<matplotlib.lines.Line2D at 0x2a1264d30>],\n",
       " 'medians': [<matplotlib.lines.Line2D at 0x2a1265a50>],\n",
       " 'fliers': [<matplotlib.lines.Line2D at 0x2a1265cf0>],\n",
       " 'means': []}"
      ]
     },
     "execution_count": 17,
     "metadata": {},
     "output_type": "execute_result"
    },
    {
     "data": {
      "image/png": "[encoded data removed]",
      "text/plain": [
       "<Figure size 640x480 with 1 Axes>"
      ]
     },
     "metadata": {},
     "output_type": "display_data"
    }
   ],
   "source": [
    "plt.boxplot(df['title_length'], vert = 0)"
   ]
  },
  {
   "cell_type": "code",
   "execution_count": 18,
   "metadata": {},
   "outputs": [
    {
     "data": {
      "text/plain": [
       "{'whiskers': [<matplotlib.lines.Line2D at 0x2a160b4f0>,\n",
       "  <matplotlib.lines.Line2D at 0x2a160b790>],\n",
       " 'caps': [<matplotlib.lines.Line2D at 0x2a160ba30>,\n",
       "  <matplotlib.lines.Line2D at 0x2a160bcd0>],\n",
       " 'boxes': [<matplotlib.lines.Line2D at 0x2a160b370>],\n",
       " 'medians': [<matplotlib.lines.Line2D at 0x2a160bf70>],\n",
       " 'fliers': [<matplotlib.lines.Line2D at 0x2a1638250>],\n",
       " 'means': []}"
      ]
     },
     "execution_count": 18,
     "metadata": {},
     "output_type": "execute_result"
    },
    {
     "data": {
      "image/png": "[encoded data removed]",
      "text/plain": [
       "<Figure size 640x480 with 1 Axes>"
      ]
     },
     "metadata": {},
     "output_type": "display_data"
    }
   ],
   "source": [
    "plt.boxplot(df['text_length'], vert = 0)"
   ]
  },
  {
   "cell_type": "code",
   "execution_count": 19,
   "metadata": {},
   "outputs": [
    {
     "data": {
      "text/plain": [
       "count    200332.000000\n",
       "mean         14.369432\n",
       "std          14.796071\n",
       "min           1.000000\n",
       "5%            8.000000\n",
       "10%           9.000000\n",
       "50%          13.000000\n",
       "75%          17.000000\n",
       "95%          25.000000\n",
       "max        4526.000000\n",
       "Name: title_length, dtype: float64"
      ]
     },
     "execution_count": 19,
     "metadata": {},
     "output_type": "execute_result"
    }
   ],
   "source": [
    "df[\"title_length\"].describe(percentiles=[0.05,0.1, 0.5, 0.75, 0.95])"
   ]
  },
  {
   "cell_type": "code",
   "execution_count": 20,
   "metadata": {},
   "outputs": [
    {
     "data": {
      "text/plain": [
       "count    200332.000000\n",
       "mean       1114.773646\n",
       "std         872.042176\n",
       "min           3.000000\n",
       "5%          375.000000\n",
       "10%         509.000000\n",
       "50%         947.000000\n",
       "75%        1329.000000\n",
       "95%        2183.000000\n",
       "max       49409.000000\n",
       "Name: text_length, dtype: float64"
      ]
     },
     "execution_count": 20,
     "metadata": {},
     "output_type": "execute_result"
    }
   ],
   "source": [
    "df[\"text_length\"].describe(percentiles=[0.05,0.1, 0.5, 0.75, 0.95])"
   ]
  },
  {
   "cell_type": "code",
   "execution_count": 21,
   "metadata": {},
   "outputs": [],
   "source": [
    "# Dropping articles who's lenght for titles and text is below 5th percentile and above 95th percentile\n",
    "new_df = df[(df['text_length']>370) & (df['text_length']<2185) & (df['title_length']>5) & (df['title_length']<26)]"
   ]
  },
  {
   "cell_type": "code",
   "execution_count": 22,
   "metadata": {},
   "outputs": [],
   "source": [
    "# Dropping columns ['text_length', 'title_length']\n",
    "new_df = new_df.drop(['text_length', 'title_length'], axis=1)"
   ]
  },
  {
   "cell_type": "code",
   "execution_count": 23,
   "metadata": {},
   "outputs": [
    {
     "data": {
      "text/plain": [
       "(170984, 9)"
      ]
     },
     "execution_count": 23,
     "metadata": {},
     "output_type": "execute_result"
    }
   ],
   "source": [
    "new_df.shape"
   ]
  },
  {
   "cell_type": "code",
   "execution_count": 24,
   "metadata": {},
   "outputs": [
    {
     "data": {
      "text/html": [
       "<div>\n",
       "<style scoped>\n",
       "    .dataframe tbody tr th:only-of-type {\n",
       "        vertical-align: middle;\n",
       "    }\n",
       "\n",
       "    .dataframe tbody tr th {\n",
       "        vertical-align: top;\n",
       "    }\n",
       "\n",
       "    .dataframe thead th {\n",
       "        text-align: right;\n",
       "    }\n",
       "</style>\n",
       "<table border=\"1\" class=\"dataframe\">\n",
       "  <thead>\n",
       "    <tr style=\"text-align: right;\">\n",
       "      <th></th>\n",
       "      <th>date</th>\n",
       "      <th>title</th>\n",
       "      <th>text</th>\n",
       "      <th>year</th>\n",
       "      <th>month</th>\n",
       "      <th>day</th>\n",
       "      <th>dayofweek</th>\n",
       "      <th>clean_title</th>\n",
       "      <th>clean_text</th>\n",
       "    </tr>\n",
       "  </thead>\n",
       "  <tbody>\n",
       "    <tr>\n",
       "      <th>84444</th>\n",
       "      <td>2021-03-30</td>\n",
       "      <td>Cambridge Quantum Computing Pioneers Quantum M...</td>\n",
       "      <td>Cambridge Quantum Computing Pioneers Quantum M...</td>\n",
       "      <td>2021</td>\n",
       "      <td>3</td>\n",
       "      <td>30</td>\n",
       "      <td>1</td>\n",
       "      <td>Cambridge Quantum Computing Pioneers Quantum M...</td>\n",
       "      <td>Cambridge Quantum Computing Pioneers Quantum M...</td>\n",
       "    </tr>\n",
       "    <tr>\n",
       "      <th>35622</th>\n",
       "      <td>2022-12-08</td>\n",
       "      <td>Aetina Launches New ASIC-Based Edge AI System ...</td>\n",
       "      <td>\\n\\nAetina Launches New ASIC-Based Edge AI Sys...</td>\n",
       "      <td>2022</td>\n",
       "      <td>12</td>\n",
       "      <td>8</td>\n",
       "      <td>3</td>\n",
       "      <td>Aetina Launches New ASICBased Edge AI System P...</td>\n",
       "      <td>Aetina Launches New ASICBased Edge AI System P...</td>\n",
       "    </tr>\n",
       "    <tr>\n",
       "      <th>140578</th>\n",
       "      <td>2020-12-04</td>\n",
       "      <td>Emotion AI Software Market To Observe Exponent...</td>\n",
       "      <td>\\nEmotion AI Software Market To Observe Expon...</td>\n",
       "      <td>2020</td>\n",
       "      <td>12</td>\n",
       "      <td>4</td>\n",
       "      <td>4</td>\n",
       "      <td>Emotion AI Software Market To Observe Exponent...</td>\n",
       "      <td>Emotion AI Software Market To Observe Exponent...</td>\n",
       "    </tr>\n",
       "  </tbody>\n",
       "</table>\n",
       "</div>"
      ],
      "text/plain": [
       "             date                                              title   \n",
       "84444  2021-03-30  Cambridge Quantum Computing Pioneers Quantum M...  \\\n",
       "35622  2022-12-08  Aetina Launches New ASIC-Based Edge AI System ...   \n",
       "140578 2020-12-04  Emotion AI Software Market To Observe Exponent...   \n",
       "\n",
       "                                                     text  year  month  day   \n",
       "84444   Cambridge Quantum Computing Pioneers Quantum M...  2021      3   30  \\\n",
       "35622   \\n\\nAetina Launches New ASIC-Based Edge AI Sys...  2022     12    8   \n",
       "140578   \\nEmotion AI Software Market To Observe Expon...  2020     12    4   \n",
       "\n",
       "        dayofweek                                        clean_title   \n",
       "84444           1  Cambridge Quantum Computing Pioneers Quantum M...  \\\n",
       "35622           3  Aetina Launches New ASICBased Edge AI System P...   \n",
       "140578          4  Emotion AI Software Market To Observe Exponent...   \n",
       "\n",
       "                                               clean_text  \n",
       "84444   Cambridge Quantum Computing Pioneers Quantum M...  \n",
       "35622   Aetina Launches New ASICBased Edge AI System P...  \n",
       "140578  Emotion AI Software Market To Observe Exponent...  "
      ]
     },
     "execution_count": 24,
     "metadata": {},
     "output_type": "execute_result"
    }
   ],
   "source": [
    "new_df.sample(3, random_state = 42)"
   ]
  },
  {
   "cell_type": "code",
   "execution_count": 25,
   "metadata": {},
   "outputs": [],
   "source": [
    "new_df.to_parquet('df_clean.parquet')"
   ]
  },
  {
   "cell_type": "code",
   "execution_count": 26,
   "metadata": {},
   "outputs": [],
   "source": [
    "new_df.to_parquet('Hello.parquet')"
   ]
  },
  {
   "cell_type": "code",
   "execution_count": null,
   "metadata": {},
   "outputs": [],
   "source": []
  }
 ],
 "metadata": {
  "environment": {
   "kernel": "python3",
   "name": "common-cpu.m108",
   "type": "gcloud",
   "uri": "gcr.io/deeplearning-platform-release/base-cpu:m108"
  },
  "kernelspec": {
   "display_name": "Python 3 (ipykernel)",
   "language": "python",
   "name": "python3"
  },
  "language_info": {
   "codemirror_mode": {
    "name": "ipython",
    "version": 3
   },
   "file_extension": ".py",
   "mimetype": "text/x-python",
   "name": "python",
   "nbconvert_exporter": "python",
   "pygments_lexer": "ipython3",
   "version": "3.10.9"
  }
 },
 "nbformat": 4,
 "nbformat_minor": 4
}
